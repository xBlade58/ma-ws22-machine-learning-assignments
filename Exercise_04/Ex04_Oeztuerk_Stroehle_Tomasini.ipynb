{
  "cells": [
    {
      "cell_type": "markdown",
      "id": "c8d3b4bc",
      "metadata": {
        "id": "c8d3b4bc"
      },
      "source": [
        "# Cross-Validation Exercises"
      ]
    },
    {
      "cell_type": "code",
      "execution_count": 2,
      "id": "5d3332f5",
      "metadata": {
        "colab": {
          "base_uri": "https://localhost:8080/"
        },
        "id": "5d3332f5",
        "outputId": "5a2e3070-df2e-474d-ac2c-d23b3154727d"
      },
      "outputs": [
        {
          "name": "stdout",
          "output_type": "stream",
          "text": [
            "--2023-01-16 16:02:33--  https://github.com/shegenbart/Jupyter-Exercises/raw/main/data/banknote.pickle\n",
            "Resolving github.com (github.com)... 140.82.112.4\n",
            "Connecting to github.com (github.com)|140.82.112.4|:443... connected.\n",
            "HTTP request sent, awaiting response... 302 Found\n",
            "Location: https://raw.githubusercontent.com/shegenbart/Jupyter-Exercises/main/data/banknote.pickle [following]\n",
            "--2023-01-16 16:02:34--  https://raw.githubusercontent.com/shegenbart/Jupyter-Exercises/main/data/banknote.pickle\n",
            "Resolving raw.githubusercontent.com (raw.githubusercontent.com)... 185.199.108.133, 185.199.109.133, 185.199.110.133, ...\n",
            "Connecting to raw.githubusercontent.com (raw.githubusercontent.com)|185.199.108.133|:443... connected.\n",
            "HTTP request sent, awaiting response... 200 OK\n",
            "Length: 50196 (49K) [application/octet-stream]\n",
            "Saving to: ‘../data/banknote.pickle’\n",
            "\n",
            "banknote.pickle     100%[===================>]  49.02K  --.-KB/s    in 0.01s   \n",
            "\n",
            "2023-01-16 16:02:34 (4.55 MB/s) - ‘../data/banknote.pickle’ saved [50196/50196]\n",
            "\n",
            "--2023-01-16 16:02:34--  https://github.com/shegenbart/Jupyter-Exercises/raw/main/data/banknote_noisy.pickle\n",
            "Resolving github.com (github.com)... 140.82.112.4\n",
            "Connecting to github.com (github.com)|140.82.112.4|:443... connected.\n",
            "HTTP request sent, awaiting response... 302 Found\n",
            "Location: https://raw.githubusercontent.com/shegenbart/Jupyter-Exercises/main/data/banknote_noisy.pickle [following]\n",
            "--2023-01-16 16:02:34--  https://raw.githubusercontent.com/shegenbart/Jupyter-Exercises/main/data/banknote_noisy.pickle\n",
            "Resolving raw.githubusercontent.com (raw.githubusercontent.com)... 185.199.108.133, 185.199.109.133, 185.199.110.133, ...\n",
            "Connecting to raw.githubusercontent.com (raw.githubusercontent.com)|185.199.108.133|:443... connected.\n",
            "HTTP request sent, awaiting response... 200 OK\n",
            "Length: 50211 (49K) [application/octet-stream]\n",
            "Saving to: ‘../data/banknote_noisy.pickle’\n",
            "\n",
            "banknote_noisy.pick 100%[===================>]  49.03K  --.-KB/s    in 0.007s  \n",
            "\n",
            "2023-01-16 16:02:35 (6.56 MB/s) - ‘../data/banknote_noisy.pickle’ saved [50211/50211]\n",
            "\n"
          ]
        }
      ],
      "source": [
        "!wget https://github.com/shegenbart/Jupyter-Exercises/raw/main/data/banknote.pickle -P ../data\n",
        "!wget https://github.com/shegenbart/Jupyter-Exercises/raw/main/data/banknote_noisy.pickle -P ../data\n",
        "    \n",
        "    \n",
        "import pickle\n",
        "import numpy as np\n",
        "\n",
        "from dataclasses import dataclass\n",
        "\n",
        "@dataclass\n",
        "class BanknotesDataset:\n",
        "    Description: str\n",
        "    Attributes: list()\n",
        "    Targets: list()\n",
        "    X: np.array\n",
        "    Y: np.array\n",
        "        \n",
        "def load_dataset(filename):\n",
        "    with open(filename, 'rb') as fd:\n",
        "        dataset = pickle.load(fd)\n",
        "    return dataset\n",
        "\n",
        "dataset = load_dataset('../data/banknote_noisy.pickle')"
      ]
    },
    {
      "cell_type": "code",
      "execution_count": 3,
      "id": "d7223af8",
      "metadata": {
        "colab": {
          "base_uri": "https://localhost:8080/"
        },
        "id": "d7223af8",
        "outputId": "fa9bcd3c-9fd7-4c41-ed17-969068f52f75"
      },
      "outputs": [
        {
          "name": "stdout",
          "output_type": "stream",
          "text": [
            "Noisy Version! Data were extracted from images that were taken\n",
            "from genuine and forged banknote-like specimens.\n",
            "For digitization, an industrial camera usually\n",
            "used for print inspection was used. The final\n",
            "images have 400x 400 pixels. Due to the object\n",
            "lens and distance to the investigated object\n",
            "gray-scale pictures with a resolution of about\n",
            "660 dpi were gained. Wavelet Transform tool were\n",
            "used to extract features from images.\n"
          ]
        }
      ],
      "source": [
        "print(dataset.Description)"
      ]
    },
    {
      "cell_type": "markdown",
      "id": "0438a813",
      "metadata": {
        "id": "0438a813"
      },
      "source": [
        "## Exercise 1:\n",
        "\n",
        "In this exercise we will study the effect of training a ML model using the training data. Because all our methods aim to find a model that works as good as possible on our training data, we often get an unrealistically high score on our training data. \n",
        "\n",
        "* Inspect the banknote-fraud dataset stored in ```dataset```.\n",
        "* Train a decision tree classifier and predict the accuracy of all data using the ```accuracy_score()``` function. \n",
        "* Discuss the results, is it realistic?"
      ]
    },
    {
      "cell_type": "code",
      "execution_count": 4,
      "id": "Uo7hc4S5pInE",
      "metadata": {
        "colab": {
          "base_uri": "https://localhost:8080/"
        },
        "id": "Uo7hc4S5pInE",
        "outputId": "8a60210a-4ed9-4a65-cd9d-d85d35c25440"
      },
      "outputs": [
        {
          "name": "stdout",
          "output_type": "stream",
          "text": [
            "Attributes: ['wt-variance', 'wt-skewness', 'wt-curtosis', 'entropy']\n",
            "Targets: ['genuine', 'fake']\n",
            "X: [[  2.39209689   7.37776213  -1.30968355  -1.90920075]\n",
            " [  4.98797126   9.20928261   1.17146499   0.27867013]\n",
            " [  3.06912727   0.09055932   1.10316372  -0.60482555]\n",
            " ...\n",
            " [ -6.80995912 -11.85842326  14.95026107  -2.33351752]\n",
            " [ -4.94918715 -12.05890416  10.94323167  -1.74622386]\n",
            " [ -5.47175965   0.34704002   1.31815441  -0.18213108]]\n",
            "Y: [0 0 0 ... 1 1 1]\n",
            "Size: 1372\n"
          ]
        }
      ],
      "source": [
        "# print(dataset)\n",
        "print(f\"Attributes: {dataset.Attributes}\")\n",
        "print(f\"Targets: {dataset.Targets}\")\n",
        "print(f\"X: {dataset.X}\")\n",
        "print(f\"Y: {dataset.Y}\")\n",
        "print(f\"Size: {len(dataset.X)}\")"
      ]
    },
    {
      "cell_type": "markdown",
      "id": "r3xsNvkzokNh",
      "metadata": {
        "id": "r3xsNvkzokNh"
      },
      "source": [
        "## Dataset Inspection\n",
        "#### Attributes:\n",
        "* wt-variance\n",
        "* wt-skewness\n",
        "* wt-curtosis\n",
        "* entropy\n",
        "\n",
        "#### Targets:\n",
        "* genuinie\n",
        "* fake"
      ]
    },
    {
      "cell_type": "code",
      "execution_count": 5,
      "id": "Ke_iBMSroPHR",
      "metadata": {
        "colab": {
          "base_uri": "https://localhost:8080/"
        },
        "id": "Ke_iBMSroPHR",
        "outputId": "dcb79d02-131f-4850-acb3-edbe94fdd885"
      },
      "outputs": [
        {
          "name": "stdout",
          "output_type": "stream",
          "text": [
            "Accuracy score: 1.0 (Train equals Test)\n"
          ]
        }
      ],
      "source": [
        "# Decision tree classifier\n",
        "from sklearn import tree\n",
        "from sklearn.metrics import accuracy_score\n",
        "\n",
        "X = dataset.X\n",
        "Y = dataset.Y\n",
        "clf = tree.DecisionTreeClassifier()\n",
        "clf.fit(X, Y)\n",
        "res = clf.predict(X)\n",
        "print(f\"Accuracy score: {accuracy_score(res, Y)} (Train equals Test)\")"
      ]
    },
    {
      "cell_type": "markdown",
      "id": "Q_jR9zEeqk-D",
      "metadata": {
        "id": "Q_jR9zEeqk-D"
      },
      "source": [
        "## Discussion\n",
        "The results of the first decision tree classifier (Train equals Test) is not realistic, as the tree is trained and tested with the same data."
      ]
    },
    {
      "cell_type": "markdown",
      "id": "239cc8da",
      "metadata": {
        "id": "239cc8da"
      },
      "source": [
        "## Exercise 2:\n",
        "\n",
        "In the previous exercise we saw that using the same data to evaluate a model that was used to optimize a method gives unrealistically high scores. Instead we have to hold back on some of the data during training and use this held-back data to perform the evaluation. \n",
        "\n",
        "* Create a test-train split of the banknote-fraud dataset (```dataset```) using the ```train_test_split()``` function from sklearn. \n",
        "* Train another decision tree on the *train* portion and evaluate it's accuracy (```accuracy_score()```) on the *test* portion. "
      ]
    },
    {
      "cell_type": "code",
      "execution_count": 6,
      "id": "2eb660e8",
      "metadata": {
        "colab": {
          "base_uri": "https://localhost:8080/"
        },
        "id": "2eb660e8",
        "outputId": "b4b26353-9bdd-4883-dccf-f96077758cc8"
      },
      "outputs": [
        {
          "name": "stdout",
          "output_type": "stream",
          "text": [
            "Accuracy score: 0.8106796116504854 (Train-Test split)\n"
          ]
        }
      ],
      "source": [
        "# Train-Test split\n",
        "from sklearn.model_selection import train_test_split\n",
        "\n",
        "X_train, X_test, Y_train, Y_test = train_test_split(X, Y, test_size=0.3)\n",
        "clf = tree.DecisionTreeClassifier()\n",
        "clf.fit(X_train, Y_train)\n",
        "res = clf.predict(X_test)\n",
        "print(f\"Accuracy score: {accuracy_score(res, Y_test)} (Train-Test split)\")"
      ]
    },
    {
      "cell_type": "markdown",
      "id": "86e115ae",
      "metadata": {
        "id": "86e115ae"
      },
      "source": [
        "## Exercise 3:\n",
        "\n",
        "There is a nice trick to know to check if your code or your validation are somewhat flawed. Shuffle your labels randomly, then train your classifier with the suffled labels. What performance would you expect from a *fair* classifier? \n",
        "\n",
        "* Shuffle your training labels (```np.random.shuffle()```)\n",
        "* Train a classifier, what accuracy would you expect?\n",
        "* Validate on your test set. "
      ]
    },
    {
      "cell_type": "markdown",
      "id": "s4CX-KeNVR0I",
      "metadata": {
        "id": "s4CX-KeNVR0I"
      },
      "source": [
        "### Expection\n",
        "As the lables are randomly shuffled, we are basically guessing at this point. And since there are only two classes (0 or 1), we should expect an accuracy around 50%."
      ]
    },
    {
      "cell_type": "code",
      "execution_count": 7,
      "id": "20a98373",
      "metadata": {
        "colab": {
          "base_uri": "https://localhost:8080/"
        },
        "id": "20a98373",
        "outputId": "6161b542-9d3d-4c36-be81-df38c1755255"
      },
      "outputs": [
        {
          "name": "stdout",
          "output_type": "stream",
          "text": [
            "Accuracy score: 0.5024271844660194 (Shuffled)\n"
          ]
        }
      ],
      "source": [
        "# Suffle labels\n",
        "import numpy as np\n",
        "\n",
        "np.random.shuffle(Y_train)\n",
        "clf = tree.DecisionTreeClassifier()\n",
        "clf.fit(X_train, Y_train)\n",
        "res = clf.predict(X_test)\n",
        "print(f\"Accuracy score: {accuracy_score(res, Y_test)} (Shuffled)\")"
      ]
    },
    {
      "cell_type": "markdown",
      "id": "9fed1c25",
      "metadata": {
        "id": "9fed1c25"
      },
      "source": [
        "### Exercise 4:\n",
        "\n",
        "Let's use scikit-learn's implementation of cross-cross_validate (see https://scikit-learn.org/stable/modules/generated/sklearn.model_selection.cross_validate.html). \n",
        "\n",
        "* Perform cross-validation using the ```cross_validate()``` function in a 10-fold cross-validation.  \n",
        "* Report the mean and standard deviation of your results. \n",
        "* Experiment with the number of folds (in k-fold cross validation), how does it influence your mean and standard deviation?"
      ]
    },
    {
      "cell_type": "code",
      "execution_count": 8,
      "id": "9deb4496",
      "metadata": {
        "colab": {
          "base_uri": "https://localhost:8080/"
        },
        "id": "9deb4496",
        "outputId": "1080f9cd-4394-4420-8776-5502830a2402"
      },
      "outputs": [
        {
          "name": "stdout",
          "output_type": "stream",
          "text": [
            "Mean: 0.8286681476779858\n",
            "Standard deviation: 0.02537932888206399\n"
          ]
        }
      ],
      "source": [
        "# Cross-Validation\n",
        "from sklearn.model_selection import cross_validate\n",
        "\n",
        "clf = tree.DecisionTreeClassifier()\n",
        "cv_results = cross_validate(clf, X=X, y=Y, cv=10)\n",
        "print(f\"Mean: {np.mean(cv_results['test_score'])}\")\n",
        "print(f\"Standard deviation: {np.std(cv_results['test_score'])}\")"
      ]
    },
    {
      "cell_type": "code",
      "execution_count": 35,
      "id": "m2jnL494UhHQ",
      "metadata": {
        "colab": {
          "base_uri": "https://localhost:8080/"
        },
        "id": "m2jnL494UhHQ",
        "outputId": "44614d3e-bfea-4688-c08c-bbef0b1e1735"
      },
      "outputs": [
        {
          "name": "stdout",
          "output_type": "stream",
          "text": [
            "K-Fold = 2 (lowest possible value)\n",
            "Mean: 0.84\n",
            "Standard deviation: 0.01\n",
            "K-Fold = 4\n",
            "Mean: 0.83\n",
            "Standard deviation: 0.02\n",
            "K-Fold = 6\n",
            "Mean: 0.84\n",
            "Standard deviation: 0.02\n",
            "K-Fold = 8\n",
            "Mean: 0.83\n",
            "Standard deviation: 0.03\n",
            "K-Fold = 12\n",
            "Mean: 0.83\n",
            "Standard deviation: 0.04\n",
            "K-Fold = 14\n",
            "Mean: 0.83\n",
            "Standard deviation: 0.05\n",
            "K-Fold = 100\n",
            "Mean: 0.84\n",
            "Standard deviation: 0.09\n",
            "K-Fold = 610 (highest possible value)\n",
            "Mean: 0.84\n",
            "Standard deviation: 0.25\n"
          ]
        }
      ],
      "source": [
        "print(\"K-Fold = 2 (lowest possible value)\")\n",
        "cv_results = cross_validate(clf, X=X, y=Y, cv=2)\n",
        "print(f\"Mean: {round(np.mean(cv_results['test_score']), 2)}\")\n",
        "print(f\"Standard deviation: {round(np.std(cv_results['test_score']), 2)}\")\n",
        "\n",
        "print(\"K-Fold = 4\")\n",
        "cv_results = cross_validate(clf, X=X, y=Y, cv=4)\n",
        "print(f\"Mean: {round(np.mean(cv_results['test_score']), 2)}\")\n",
        "print(f\"Standard deviation: {round(np.std(cv_results['test_score']), 2)}\")\n",
        "\n",
        "print(\"K-Fold = 6\")\n",
        "cv_results = cross_validate(clf, X=X, y=Y, cv=6)\n",
        "print(f\"Mean: {round(np.mean(cv_results['test_score']), 2)}\")\n",
        "print(f\"Standard deviation: {round(np.std(cv_results['test_score']), 2)}\")\n",
        "\n",
        "print(\"K-Fold = 8\")\n",
        "cv_results = cross_validate(clf, X=X, y=Y, cv=8)\n",
        "print(f\"Mean: {round(np.mean(cv_results['test_score']), 2)}\")\n",
        "print(f\"Standard deviation: {round(np.std(cv_results['test_score']), 2)}\")\n",
        "\n",
        "print(\"K-Fold = 12\")\n",
        "cv_results = cross_validate(clf, X=X, y=Y, cv=12)\n",
        "print(f\"Mean: {round(np.mean(cv_results['test_score']), 2)}\")\n",
        "print(f\"Standard deviation: {round(np.std(cv_results['test_score']), 2)}\")\n",
        "\n",
        "print(\"K-Fold = 14\")\n",
        "cv_results = cross_validate(clf, X=X, y=Y, cv=14)\n",
        "print(f\"Mean: {round(np.mean(cv_results['test_score']), 2)}\")\n",
        "print(f\"Standard deviation: {round(np.std(cv_results['test_score']), 2)}\")\n",
        "\n",
        "print(\"K-Fold = 100\")\n",
        "cv_results = cross_validate(clf, X=X, y=Y, cv=100)\n",
        "print(f\"Mean: {round(np.mean(cv_results['test_score']), 2)}\")\n",
        "print(f\"Standard deviation: {round(np.std(cv_results['test_score']), 2)}\")\n",
        "\n",
        "print(\"K-Fold = 610 (highest possible value)\")\n",
        "cv_results = cross_validate(clf, X=X, y=Y, cv=610)\n",
        "print(f\"Mean: {round(np.mean(cv_results['test_score']), 2)}\")\n",
        "print(f\"Standard deviation: {round(np.std(cv_results['test_score']), 2)}\")"
      ]
    },
    {
      "cell_type": "markdown",
      "id": "ykg2HNjmVDlQ",
      "metadata": {
        "id": "ykg2HNjmVDlQ"
      },
      "source": [
        "### Influence on main and standard deviation\n",
        "When increasing the number of folds is increased, the mean stays around the same, but the standard deviation gets higher."
      ]
    },
    {
      "cell_type": "markdown",
      "id": "ababfcad",
      "metadata": {
        "id": "ababfcad"
      },
      "source": [
        "### Exercise 5:\n",
        "\n",
        "* Train a decision tree classifier for the banknotes dataset (it should already be loaded in the ```dataset``` variable), compute and visualize the confusion matrix.\n",
        "* Compute the accuracy, specificity, recall and precision in a 10 fold cross-validation and report the mean and standard deviation of each. \n",
        "\n",
        "**Hints:** \n",
        "\n",
        "1. Implement each measure as a function with a prototype like this:\n",
        "```python \n",
        "def accuracy(Y_pred, Y_real): \n",
        "        pass\n",
        "```\n",
        "\n",
        "2. Use a confusion matrix to compute the true-positives, true-negatives, false-positives and false-positives.\n",
        "3. ```cross_validate()``` accepts a parameter ```scoring```which accepts a dictionary of callables, use **lambdas** to  define your individual scorers. "
      ]
    },
    {
      "cell_type": "code",
      "execution_count": 9,
      "id": "IOO4CvQr7V8h",
      "metadata": {
        "colab": {
          "base_uri": "https://localhost:8080/",
          "height": 331
        },
        "id": "IOO4CvQr7V8h",
        "outputId": "1ac4030c-4ecb-498b-f51f-77998a1c687d"
      },
      "outputs": [
        {
          "name": "stdout",
          "output_type": "stream",
          "text": [
            "Confusion Matrix:\n",
            "[[186  32]\n",
            " [ 33 161]]\n"
          ]
        },
        {
          "data": {
            "image/png": "[encoded data removed]",
            "text/plain": [
              "<Figure size 432x288 with 2 Axes>"
            ]
          },
          "metadata": {
            "needs_background": "light"
          },
          "output_type": "display_data"
        }
      ],
      "source": [
        "# Confusion matrix\n",
        "from sklearn.metrics import confusion_matrix, ConfusionMatrixDisplay\n",
        "\n",
        "X_train, X_test, Y_train, Y_test = train_test_split(X, Y, test_size=0.3)\n",
        "clf = tree.DecisionTreeClassifier()\n",
        "clf.fit(X_train, Y_train)\n",
        "res = clf.predict(X_test)\n",
        "print(f\"Confusion Matrix:\\n{confusion_matrix(res, Y_test)}\")\n",
        "ConfusionMatrixDisplay.from_predictions(res, Y_test);"
      ]
    },
    {
      "cell_type": "code",
      "execution_count": 10,
      "id": "246f0834",
      "metadata": {
        "id": "246f0834"
      },
      "outputs": [],
      "source": [
        "# Evaluation metrics implementation\n",
        "def accuracy(Y_pred, Y_real):\n",
        "  pred = predictions(Y_pred, Y_real)\n",
        "  return (pred['tp'] + pred['tn']) / (pred['tp'] + pred['tn'] + pred['fp'] + pred['fn'])\n",
        "\n",
        "def specificity(Y_pred, Y_real):\n",
        "  pred = predictions(Y_pred, Y_real)\n",
        "  return pred['tn'] / (pred['tn'] + pred['fp'])\n",
        "\n",
        "def sensitivity(Y_pred, Y_real):\n",
        "  pred = predictions(Y_pred, Y_real)\n",
        "  return pred['tp'] / (pred['tp'] + pred['fn'])\n",
        "\n",
        "def precision(Y_pred, Y_real):\n",
        "  pred = predictions(Y_pred, Y_real)\n",
        "  return pred['tp'] / (pred['tp'] + pred['fp'])\n",
        "\n",
        "def predictions(Y_pred, Y_real):\n",
        "  cf = confusion_matrix(Y_pred, Y_real)\n",
        "  predictions = dict()\n",
        "  predictions['tp'] = cf[1][1]\n",
        "  predictions['fp'] = cf[0][1]\n",
        "  predictions['fn'] = cf[0][0]\n",
        "  predictions['tn'] = cf[1][0]\n",
        "  return predictions"
      ]
    },
    {
      "cell_type": "code",
      "execution_count": 11,
      "id": "c1e3415b",
      "metadata": {
        "colab": {
          "base_uri": "https://localhost:8080/"
        },
        "id": "c1e3415b",
        "outputId": "3820d0e2-964b-462d-9555-abf307045efd"
      },
      "outputs": [
        {
          "name": "stdout",
          "output_type": "stream",
          "text": [
            "Accuracy: 0.470873786407767\n",
            "Specificity: 0.5076923076923077\n",
            "Sensitivity: 0.46397694524495675\n",
            "Precision: 0.8341968911917098\n"
          ]
        }
      ],
      "source": [
        "print(f\"Accuracy: {accuracy(res, Y_test)}\")\n",
        "print(f\"Specificity: {specificity(res, Y_test)}\")\n",
        "print(f\"Sensitivity: {sensitivity(res, Y_test)}\")\n",
        "print(f\"Precision: {precision(res, Y_test)}\")"
      ]
    },
    {
      "cell_type": "code",
      "execution_count": 16,
      "id": "TArZ8tOYBlZ8",
      "metadata": {
        "colab": {
          "base_uri": "https://localhost:8080/"
        },
        "id": "TArZ8tOYBlZ8",
        "outputId": "b3c21c07-d687-4788-a1bf-dcad33799d20"
      },
      "outputs": [
        {
          "name": "stdout",
          "output_type": "stream",
          "text": [
            "Mean accuracy: 0.4409182270178779\n",
            "Standard deviation accuracy: 0.03878768564090738\n",
            "\n",
            "Mean specificity: 0.48884365634365634\n",
            "Standard deviation specificity: 0.12337737641402062\n",
            "\n",
            "Mean sensitivity: 0.43143099422012626\n",
            "Standard deviation sensitivity: 0.022779576971498263\n",
            "\n",
            "Mean precision: 0.8098360655737705\n",
            "Standard deviation precision: 0.051424220135600406\n",
            "\n"
          ]
        }
      ],
      "source": [
        "# Cross-Validation\n",
        "clf = tree.DecisionTreeClassifier()\n",
        "scorers = dict()\n",
        "scorers['accuracy'] = lambda clf, X,Y : accuracy(clf.predict(X), Y)\n",
        "scorers['specificity'] = lambda clf, X,Y : specificity(clf.predict(X), Y)\n",
        "scorers['sensitivity'] = lambda clf, X,Y : sensitivity(clf.predict(X), Y)\n",
        "scorers['precision'] = lambda clf, X,Y : precision(clf.predict(X), Y)\n",
        "\n",
        "cv_results = cross_validate(clf, X=X, y=Y, cv=10, scoring=scorers)\n",
        "\n",
        "print(f\"Mean accuracy: {np.mean(cv_results['test_accuracy'])}\")\n",
        "print(f\"Standard deviation accuracy: {np.std(cv_results['test_accuracy'])}\\n\")\n",
        "print(f\"Mean specificity: {np.mean(cv_results['test_specificity'])}\")\n",
        "print(f\"Standard deviation specificity: {np.std(cv_results['test_specificity'])}\\n\")\n",
        "print(f\"Mean sensitivity: {np.mean(cv_results['test_sensitivity'])}\")\n",
        "print(f\"Standard deviation sensitivity: {np.std(cv_results['test_sensitivity'])}\\n\")\n",
        "print(f\"Mean precision: {np.mean(cv_results['test_precision'])}\")\n",
        "print(f\"Standard deviation precision: {np.std(cv_results['test_precision'])}\\n\")"
      ]
    }
  ],
  "metadata": {
    "celltoolbar": "Edit Metadata",
    "colab": {
      "provenance": []
    },
    "kernelspec": {
      "display_name": "Python 3",
      "language": "python",
      "name": "python3"
    },
    "language_info": {
      "codemirror_mode": {
        "name": "ipython",
        "version": 3
      },
      "file_extension": ".py",
      "mimetype": "text/x-python",
      "name": "python",
      "nbconvert_exporter": "python",
      "pygments_lexer": "ipython3",
      "version": "3.10.2 (tags/v3.10.2:a58ebcc, Jan 17 2022, 14:12:15) [MSC v.1929 64 bit (AMD64)]"
    },
    "vscode": {
      "interpreter": {
        "hash": "e7b2765c452f16a3a4fadf78b91c0bdc1510ecc5741a067e6b0a43ef6f42ca60"
      }
    }
  },
  "nbformat": 4,
  "nbformat_minor": 5
}
