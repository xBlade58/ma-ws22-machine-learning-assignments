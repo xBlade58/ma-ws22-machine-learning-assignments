{
  "cells": [
    {
      "cell_type": "markdown",
      "id": "c8d3b4bc",
      "metadata": {
        "id": "c8d3b4bc"
      },
      "source": [
        "# Cross-Validation Exercises"
      ]
    },
    {
      "cell_type": "code",
      "execution_count": 158,
      "id": "5d3332f5",
      "metadata": {
        "id": "5d3332f5",
        "outputId": "11a060d9-32eb-4367-81eb-035c9c7a9e95",
        "colab": {
          "base_uri": "https://localhost:8080/"
        }
      },
      "outputs": [
        {
          "output_type": "stream",
          "name": "stdout",
          "text": [
            "--2023-01-10 10:00:05--  https://github.com/shegenbart/Jupyter-Exercises/raw/main/data/banknote.pickle\n",
            "Resolving github.com (github.com)... 140.82.121.4\n",
            "Connecting to github.com (github.com)|140.82.121.4|:443... connected.\n",
            "HTTP request sent, awaiting response... 302 Found\n",
            "Location: https://raw.githubusercontent.com/shegenbart/Jupyter-Exercises/main/data/banknote.pickle [following]\n",
            "--2023-01-10 10:00:05--  https://raw.githubusercontent.com/shegenbart/Jupyter-Exercises/main/data/banknote.pickle\n",
            "Resolving raw.githubusercontent.com (raw.githubusercontent.com)... 185.199.110.133, 185.199.109.133, 185.199.111.133, ...\n",
            "Connecting to raw.githubusercontent.com (raw.githubusercontent.com)|185.199.110.133|:443... connected.\n",
            "HTTP request sent, awaiting response... 200 OK\n",
            "Length: 50196 (49K) [application/octet-stream]\n",
            "Saving to: ‘../data/banknote.pickle.2’\n",
            "\n",
            "banknote.pickle.2   100%[===================>]  49.02K  --.-KB/s    in 0.003s  \n",
            "\n",
            "2023-01-10 10:00:05 (14.3 MB/s) - ‘../data/banknote.pickle.2’ saved [50196/50196]\n",
            "\n",
            "--2023-01-10 10:00:06--  https://github.com/shegenbart/Jupyter-Exercises/raw/main/data/banknote_noisy.pickle\n",
            "Resolving github.com (github.com)... 140.82.121.4\n",
            "Connecting to github.com (github.com)|140.82.121.4|:443... connected.\n",
            "HTTP request sent, awaiting response... 302 Found\n",
            "Location: https://raw.githubusercontent.com/shegenbart/Jupyter-Exercises/main/data/banknote_noisy.pickle [following]\n",
            "--2023-01-10 10:00:06--  https://raw.githubusercontent.com/shegenbart/Jupyter-Exercises/main/data/banknote_noisy.pickle\n",
            "Resolving raw.githubusercontent.com (raw.githubusercontent.com)... 185.199.109.133, 185.199.108.133, 185.199.110.133, ...\n",
            "Connecting to raw.githubusercontent.com (raw.githubusercontent.com)|185.199.109.133|:443... connected.\n",
            "HTTP request sent, awaiting response... 200 OK\n",
            "Length: 50211 (49K) [application/octet-stream]\n",
            "Saving to: ‘../data/banknote_noisy.pickle.2’\n",
            "\n",
            "banknote_noisy.pick 100%[===================>]  49.03K  --.-KB/s    in 0.003s  \n",
            "\n",
            "2023-01-10 10:00:06 (13.9 MB/s) - ‘../data/banknote_noisy.pickle.2’ saved [50211/50211]\n",
            "\n"
          ]
        }
      ],
      "source": [
        "!wget https://github.com/shegenbart/Jupyter-Exercises/raw/main/data/banknote.pickle -P ../data\n",
        "!wget https://github.com/shegenbart/Jupyter-Exercises/raw/main/data/banknote_noisy.pickle -P ../data\n",
        "    \n",
        "    \n",
        "import pickle\n",
        "import numpy as np\n",
        "\n",
        "from dataclasses import dataclass\n",
        "\n",
        "@dataclass\n",
        "class BanknotesDataset:\n",
        "    Description: str\n",
        "    Attributes: list()\n",
        "    Targets: list()\n",
        "    X: np.array\n",
        "    Y: np.array\n",
        "        \n",
        "def load_dataset(filename):\n",
        "    with open(filename, 'rb') as fd:\n",
        "        dataset = pickle.load(fd)\n",
        "    return dataset\n",
        "\n",
        "dataset = load_dataset('../data/banknote_noisy.pickle')"
      ]
    },
    {
      "cell_type": "code",
      "execution_count": 159,
      "id": "d7223af8",
      "metadata": {
        "id": "d7223af8",
        "outputId": "6cdff8db-996e-422d-f6fa-3714dcec51f2",
        "colab": {
          "base_uri": "https://localhost:8080/"
        }
      },
      "outputs": [
        {
          "output_type": "stream",
          "name": "stdout",
          "text": [
            "Noisy Version! Data were extracted from images that were taken\n",
            "from genuine and forged banknote-like specimens.\n",
            "For digitization, an industrial camera usually\n",
            "used for print inspection was used. The final\n",
            "images have 400x 400 pixels. Due to the object\n",
            "lens and distance to the investigated object\n",
            "gray-scale pictures with a resolution of about\n",
            "660 dpi were gained. Wavelet Transform tool were\n",
            "used to extract features from images.\n"
          ]
        }
      ],
      "source": [
        "print(dataset.Description)"
      ]
    },
    {
      "cell_type": "markdown",
      "id": "0438a813",
      "metadata": {
        "id": "0438a813"
      },
      "source": [
        "## Exercise 1:\n",
        "\n",
        "In this exercise we will study the effect of training a ML model using the training data. Because all our methods aim to find a model that works as good as possible on our training data, we often get an unrealistically high score on our training data. \n",
        "\n",
        "* Inspect the banknote-fraud dataset stored in ```dataset```.\n",
        "* Train a decision tree classifier and predict the accuracy of all data using the ```accuracy_score()``` function. \n",
        "* Discuss the results, is it realistic?"
      ]
    },
    {
      "cell_type": "code",
      "source": [
        "# print(dataset)\n",
        "print(f\"Attributes: {dataset.Attributes}\")\n",
        "print(f\"Targets: {dataset.Targets}\")\n",
        "print(f\"X: {dataset.X}\")\n",
        "print(f\"Y: {dataset.Y}\")\n",
        "print(f\"Size: {len(dataset.X)}\")"
      ],
      "metadata": {
        "colab": {
          "base_uri": "https://localhost:8080/"
        },
        "id": "Uo7hc4S5pInE",
        "outputId": "f7031c4d-9b5e-4960-f5ba-8e5c6de7209b"
      },
      "id": "Uo7hc4S5pInE",
      "execution_count": 160,
      "outputs": [
        {
          "output_type": "stream",
          "name": "stdout",
          "text": [
            "Attributes: ['wt-variance', 'wt-skewness', 'wt-curtosis', 'entropy']\n",
            "Targets: ['genuine', 'fake']\n",
            "X: [[  2.39209689   7.37776213  -1.30968355  -1.90920075]\n",
            " [  4.98797126   9.20928261   1.17146499   0.27867013]\n",
            " [  3.06912727   0.09055932   1.10316372  -0.60482555]\n",
            " ...\n",
            " [ -6.80995912 -11.85842326  14.95026107  -2.33351752]\n",
            " [ -4.94918715 -12.05890416  10.94323167  -1.74622386]\n",
            " [ -5.47175965   0.34704002   1.31815441  -0.18213108]]\n",
            "Y: [0 0 0 ... 1 1 1]\n",
            "Size: 1372\n"
          ]
        }
      ]
    },
    {
      "cell_type": "markdown",
      "source": [
        "## Dataset Inspection\n",
        "#### Attributes:\n",
        "* wt-variance\n",
        "* wt-skewness\n",
        "* wt-curtosis\n",
        "* entropy\n",
        "\n",
        "#### Targets:\n",
        "* genuinie\n",
        "* fake"
      ],
      "metadata": {
        "id": "r3xsNvkzokNh"
      },
      "id": "r3xsNvkzokNh"
    },
    {
      "cell_type": "code",
      "source": [
        "# Decision tree classifier\n",
        "from sklearn import tree\n",
        "from sklearn.metrics import accuracy_score\n",
        "\n",
        "X = dataset.X\n",
        "Y = dataset.Y\n",
        "clf = tree.DecisionTreeClassifier()\n",
        "clf.fit(X, Y)\n",
        "res = clf.predict(X)\n",
        "print(f\"Accuracy score: {accuracy_score(res, Y)} (Train equals Test)\")"
      ],
      "metadata": {
        "colab": {
          "base_uri": "https://localhost:8080/"
        },
        "id": "Ke_iBMSroPHR",
        "outputId": "20fae011-f500-4d02-d082-c873c7e7feec"
      },
      "id": "Ke_iBMSroPHR",
      "execution_count": 161,
      "outputs": [
        {
          "output_type": "stream",
          "name": "stdout",
          "text": [
            "Accuracy score: 1.0 (Train equals Test)\n"
          ]
        }
      ]
    },
    {
      "cell_type": "markdown",
      "source": [
        "## Discussion\n",
        "The results of the first decision tree classifier (Train equals Test) is not realistic, as the tree is trained and tested with the same data."
      ],
      "metadata": {
        "id": "Q_jR9zEeqk-D"
      },
      "id": "Q_jR9zEeqk-D"
    },
    {
      "cell_type": "markdown",
      "id": "239cc8da",
      "metadata": {
        "id": "239cc8da"
      },
      "source": [
        "## Exercise 2:\n",
        "\n",
        "In the previous exercise we saw that using the same data to evaluate a model that was used to optimize a method gives unrealistically high scores. Instead we have to hold back on some of the data during training and use this held-back data to perform the evaluation. \n",
        "\n",
        "* Create a test-train split of the banknote-fraud dataset (```dataset```) using the ```train_test_split()``` function from sklearn. \n",
        "* Train another decision tree on the *train* portion and evaluate it's accuracy (```accuracy_score()```) on the *test* portion. "
      ]
    },
    {
      "cell_type": "code",
      "execution_count": 162,
      "id": "2eb660e8",
      "metadata": {
        "id": "2eb660e8",
        "colab": {
          "base_uri": "https://localhost:8080/"
        },
        "outputId": "1bbec5ff-55b6-4fbb-b15b-86f018c37ae0"
      },
      "outputs": [
        {
          "output_type": "stream",
          "name": "stdout",
          "text": [
            "Accuracy score: 0.8519417475728155 (Train-Test split)\n"
          ]
        }
      ],
      "source": [
        "# Train-Test split\n",
        "from sklearn.model_selection import train_test_split\n",
        "\n",
        "X_train, X_test, Y_train, Y_test = train_test_split(X, Y, test_size=0.3)\n",
        "clf = tree.DecisionTreeClassifier()\n",
        "clf.fit(X_train, Y_train)\n",
        "res = clf.predict(X_test)\n",
        "print(f\"Accuracy score: {accuracy_score(res, Y_test)} (Train-Test split)\")"
      ]
    },
    {
      "cell_type": "markdown",
      "id": "86e115ae",
      "metadata": {
        "id": "86e115ae"
      },
      "source": [
        "## Exercise 3:\n",
        "\n",
        "There is a nice trick to know to check if your code or your validation are somewhat flawed. Shuffle your labels randomly, then train your classifier with the suffled labels. What performance would you expect from a *fair* classifier? \n",
        "\n",
        "* Shuffle your training labels (```np.random.shuffle()```)\n",
        "* Train a classifier, what accuracy would you expect?\n",
        "* Validate on your test set. "
      ]
    },
    {
      "cell_type": "code",
      "execution_count": 163,
      "id": "20a98373",
      "metadata": {
        "id": "20a98373",
        "colab": {
          "base_uri": "https://localhost:8080/"
        },
        "outputId": "994cb46c-80f5-4cce-a413-b4f66a5f40b1"
      },
      "outputs": [
        {
          "output_type": "stream",
          "name": "stdout",
          "text": [
            "Accuracy score: 0.4830097087378641 (Shuffled)\n"
          ]
        }
      ],
      "source": [
        "# Suffle labels\n",
        "import numpy as np\n",
        "\n",
        "np.random.shuffle(Y_train)\n",
        "clf = tree.DecisionTreeClassifier()\n",
        "clf.fit(X_train, Y_train)\n",
        "res = clf.predict(X_test)\n",
        "print(f\"Accuracy score: {accuracy_score(res, Y_test)} (Shuffled)\")"
      ]
    },
    {
      "cell_type": "markdown",
      "id": "9fed1c25",
      "metadata": {
        "id": "9fed1c25"
      },
      "source": [
        "### Exercise 4:\n",
        "\n",
        "Let's use scikit-learn's implementation of cross-cross_validate (see https://scikit-learn.org/stable/modules/generated/sklearn.model_selection.cross_validate.html). \n",
        "\n",
        "* Perform cross-validation using the ```cross_validate()``` function in a 10-fold cross-validation.  \n",
        "* Report the mean and standard deviation of your results. \n",
        "* Experiment with the number of folds (in k-fold cross validation), how does it influence your mean and standard deviation?"
      ]
    },
    {
      "cell_type": "code",
      "execution_count": 164,
      "id": "9deb4496",
      "metadata": {
        "id": "9deb4496",
        "colab": {
          "base_uri": "https://localhost:8080/"
        },
        "outputId": "74dfb8e2-69de-4202-e70e-abcf29d672b5"
      },
      "outputs": [
        {
          "output_type": "stream",
          "name": "stdout",
          "text": [
            "Mean: 0.8359621284248387\n",
            "Standard deviation: 0.024913209565148867\n"
          ]
        }
      ],
      "source": [
        "# Cross-Validation\n",
        "from sklearn.model_selection import cross_validate\n",
        "\n",
        "clf = tree.DecisionTreeClassifier()\n",
        "cv_results = cross_validate(clf, X=X, y=Y, cv=10)\n",
        "print(f\"Mean: {np.mean(cv_results['test_score'])}\")\n",
        "print(f\"Standard deviation: {np.std(cv_results['test_score'])}\")"
      ]
    },
    {
      "cell_type": "markdown",
      "id": "ababfcad",
      "metadata": {
        "id": "ababfcad"
      },
      "source": [
        "### Exercise 5:\n",
        "\n",
        "* Train a decision tree classifier for the banknotes dataset (it should already be loaded in the ```dataset``` variable), compute and visualize the confusion matrix.\n",
        "* Compute the accuracy, specificity, recall and precision in a 10 fold cross-validation and report the mean and standard deviation of each. \n",
        "\n",
        "**Hints:** \n",
        "\n",
        "1. Implement each measure as a function with a prototype like this:\n",
        "```python \n",
        "def accuracy(Y_pred, Y_real): \n",
        "        pass\n",
        "```\n",
        "\n",
        "2. Use a confusion matrix to compute the true-positives, true-negatives, false-positives and false-positives.\n",
        "3. ```cross_validate()``` accepts a parameter ```scoring```which accepts a dictionary of callables, use **lambdas** to  define your individual scorers. "
      ]
    },
    {
      "cell_type": "code",
      "source": [
        "# Confusion matrix\n",
        "from sklearn.metrics import confusion_matrix, ConfusionMatrixDisplay\n",
        "\n",
        "X_train, X_test, Y_train, Y_test = train_test_split(X, Y, test_size=0.3)\n",
        "clf = tree.DecisionTreeClassifier()\n",
        "clf.fit(X_train, Y_train)\n",
        "res = clf.predict(X_test)\n",
        "print(f\"Confusion Matrix:\\n{confusion_matrix(res, Y_test)}\")\n",
        "ConfusionMatrixDisplay.from_predictions(res, Y_test);"
      ],
      "metadata": {
        "colab": {
          "base_uri": "https://localhost:8080/",
          "height": 331
        },
        "id": "IOO4CvQr7V8h",
        "outputId": "80f95f90-806c-42bb-a298-ea961781902f"
      },
      "id": "IOO4CvQr7V8h",
      "execution_count": 165,
      "outputs": [
        {
          "output_type": "stream",
          "name": "stdout",
          "text": [
            "Confusion Matrix:\n",
            "[[209  30]\n",
            " [ 22 151]]\n"
          ]
        },
        {
          "output_type": "display_data",
          "data": {
            "text/plain": [
              "<Figure size 432x288 with 2 Axes>"
            ],
            "image/png": "[encoded data removed]"
          },
          "metadata": {
            "needs_background": "light"
          }
        }
      ]
    },
    {
      "cell_type": "code",
      "execution_count": 166,
      "id": "246f0834",
      "metadata": {
        "id": "246f0834"
      },
      "outputs": [],
      "source": [
        "# Evaluation metrics implementation\n",
        "def accuracy(Y_pred, Y_real):\n",
        "  pred = predictions(Y_pred, Y_real)\n",
        "  return (pred['tp'] + pred['tn']) / (pred['tp'] + pred['tn'] + pred['fp'] + pred['fn'])\n",
        "\n",
        "def specificity(Y_pred, Y_real):\n",
        "  pred = predictions(Y_pred, Y_real)\n",
        "  return pred['tn'] / (pred['tn'] + pred['fp'])\n",
        "\n",
        "def sensitivity(Y_pred, Y_real):\n",
        "  pred = predictions(Y_pred, Y_real)\n",
        "  return pred['tp'] / (pred['tp'] + pred['fn'])\n",
        "\n",
        "def precision(Y_pred, Y_real):\n",
        "  pred = predictions(Y_pred, Y_real)\n",
        "  return pred['tp'] / (pred['tp'] + pred['fp'])\n",
        "\n",
        "def predictions(Y_pred, Y_real):\n",
        "  cf = confusion_matrix(Y_pred, Y_real)\n",
        "  predictions = dict()\n",
        "  predictions['tp'] = cf[1][1]\n",
        "  predictions['fp'] = cf[0][1]\n",
        "  predictions['fn'] = cf[0][0]\n",
        "  predictions['tn'] = cf[1][0]\n",
        "  return predictions"
      ]
    },
    {
      "cell_type": "code",
      "execution_count": 167,
      "id": "c1e3415b",
      "metadata": {
        "id": "c1e3415b",
        "colab": {
          "base_uri": "https://localhost:8080/"
        },
        "outputId": "001005e8-3282-47d5-d52b-4382a34f4e70"
      },
      "outputs": [
        {
          "output_type": "stream",
          "name": "stdout",
          "text": [
            "Accuracy: 0.4199029126213592\n",
            "Specificity: 0.4230769230769231\n",
            "Sensitivity: 0.41944444444444445\n",
            "Precision: 0.8342541436464088\n"
          ]
        }
      ],
      "source": [
        "print(f\"Accuracy: {accuracy(res, Y_test)}\")\n",
        "print(f\"Specificity: {specificity(res, Y_test)}\")\n",
        "print(f\"Sensitivity: {sensitivity(res, Y_test)}\")\n",
        "print(f\"Precision: {precision(res, Y_test)}\")"
      ]
    },
    {
      "cell_type": "code",
      "source": [
        "# Cross-Validation\n",
        "clf = tree.DecisionTreeClassifier()\n",
        "scorers = dict()\n",
        "scorers['accuracy'] = lambda clf, X,Y : accuracy(clf.predict(X), Y)\n",
        "scorers['specificity'] = lambda clf, X,Y : specificity(clf.predict(X), Y)\n",
        "scorers['sensitivity'] = lambda clf, X,Y : sensitivity(clf.predict(X), Y)\n",
        "scorers['precision'] = lambda clf, X,Y : precision(clf.predict(X), Y)\n",
        "\n",
        "cv_results = cross_validate(clf, X=X, y=Y, cv=10, scoring=scorers)\n",
        "\n",
        "print(f\"Mean accuracy: {np.mean(cv_results['test_accuracy'])}\")\n",
        "print(f\"Standard deviation accuracy: {np.std(cv_results['test_accuracy'])}\\n\")\n",
        "print(f\"Mean specificity: {np.mean(cv_results['test_specificity'])}\")\n",
        "print(f\"Standard deviation specificity: {np.std(cv_results['test_specificity'])}\\n\")\n",
        "print(f\"Mean sensitivity: {np.mean(cv_results['test_sensitivity'])}\")\n",
        "print(f\"Standard deviation sensitivity: {np.std(cv_results['test_sensitivity'])}\\n\")\n",
        "print(f\"Mean precision: {np.mean(cv_results['test_precision'])}\")\n",
        "print(f\"Standard deviation precision: {np.std(cv_results['test_precision'])}\\n\")"
      ],
      "metadata": {
        "colab": {
          "base_uri": "https://localhost:8080/"
        },
        "id": "TArZ8tOYBlZ8",
        "outputId": "10289d85-a78c-4f4a-93fc-95734ceb0591"
      },
      "id": "TArZ8tOYBlZ8",
      "execution_count": 168,
      "outputs": [
        {
          "output_type": "stream",
          "name": "stdout",
          "text": [
            "Mean accuracy: 0.44384851369935474\n",
            "Standard deviation accuracy: 0.04151382604620878\n",
            "\n",
            "Mean specificity: 0.4944564018495803\n",
            "Standard deviation specificity: 0.12479440446874744\n",
            "\n",
            "Mean sensitivity: 0.43300441171019094\n",
            "Standard deviation sensitivity: 0.024277354225888836\n",
            "\n",
            "Mean precision: 0.8081967213114755\n",
            "Standard deviation precision: 0.0486584330480519\n",
            "\n"
          ]
        }
      ]
    }
  ],
  "metadata": {
    "celltoolbar": "Edit Metadata",
    "kernelspec": {
      "display_name": "Python 3 (ipykernel)",
      "language": "python",
      "name": "python3"
    },
    "language_info": {
      "codemirror_mode": {
        "name": "ipython",
        "version": 3
      },
      "file_extension": ".py",
      "mimetype": "text/x-python",
      "name": "python",
      "nbconvert_exporter": "python",
      "pygments_lexer": "ipython3",
      "version": "3.8.12"
    },
    "colab": {
      "provenance": []
    }
  },
  "nbformat": 4,
  "nbformat_minor": 5
}