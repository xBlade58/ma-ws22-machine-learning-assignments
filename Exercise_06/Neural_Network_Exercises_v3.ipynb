{
  "cells": [
    {
      "cell_type": "markdown",
      "id": "9a3eb38a",
      "metadata": {
        "id": "9a3eb38a"
      },
      "source": [
        "# Neural Networks\n",
        "\n",
        "This notebook contains the exercises for the neural network slides. "
      ]
    },
    {
      "cell_type": "markdown",
      "id": "61bd20c7",
      "metadata": {
        "id": "61bd20c7"
      },
      "source": [
        "### Helper functions:"
      ]
    },
    {
      "cell_type": "code",
      "execution_count": 2,
      "id": "4b1fecf5",
      "metadata": {
        "id": "4b1fecf5",
        "outputId": "72fd67d8-672a-4715-d026-deb51182faee"
      },
      "outputs": [
        {
          "name": "stdout",
          "output_type": "stream",
          "text": [
            "2.9.0\n"
          ]
        }
      ],
      "source": [
        "\n",
        "import tensorflow as tf\n",
        "import numpy as np\n",
        "from tensorflow import keras\n",
        "from tensorflow.keras.optimizers import SGD, Adam\n",
        "from tensorflow.keras.layers import Dense\n",
        "from tensorflow.keras import Sequential\n",
        "import math\n",
        "\n",
        "import matplotlib.pyplot as plt\n",
        "print(tf.__version__)\n",
        "\n",
        "def target_poly(x):\n",
        "    output = np.empty(len(x))\n",
        "    for i in range(len(x)):\n",
        "        output[i] = (1/4.0) * (x[i]+4) * (x[i] + 1) * (x[i] - 2)\n",
        "    return output\n",
        "\n",
        "def target_poly_3(x):\n",
        "    output = np.empty(len(x))\n",
        "    for i in range(len(x)):\n",
        "        output[i] = 2 * x[i]**3 + x[i]**2 - x[i] \n",
        "    return output\n",
        "\n",
        "# polynomial with 8 roots\n",
        "def target_poly_7(x):\n",
        "    output = np.empty(len(x))\n",
        "    for i in range(len(x)):\n",
        "        output[i] = x[i]**7 + 4*x[i]**6 - 14*x[i]**5 - 56*x[i]**4 + 49*x[i]**3 + 196*x[i]**2 - 36*x[i] - 144\n",
        "    return output\n",
        "\n",
        "# a very high dimensional polygon\n",
        "def target_poly_14(x):\n",
        "    output = np.empty(len(x))\n",
        "    for i in range(len(x)):\n",
        "        output[i] = x[i]**14 - 0.97*x[i]**13 - 27.5669*x[i]**12 + 28.596911*x[i]**11 + 291.72658501*x[i]**10 - 322.8791018467*x[i]**9 - 1482.7415839005*x[i]**8 + 1741.757256169*x[i]**7 + 3643.0791581657*x[i]**6 - 4525.2996198175*x[i]**5 - 3566.980623085*x[i]**4 + 4745.7344671655*x[i]**3 + 263.42489522071*x[i]**2 - 614.82116925297+x[i] + 66.216725787218\n",
        "    return output\n",
        "\n",
        "def target_sine(x):\n",
        "    output = np.empty(len(x))\n",
        "    for i in range(len(x)):\n",
        "        output[i] = math.sin(x[i])\n",
        "    return output\n",
        "\n",
        "\n",
        "def mother_wavelet(x):\n",
        "    return (np.sin(2*np.pi*x) - np.sin(np.pi * x)) / np.pi * x\n",
        "\n",
        "\n",
        "def plot_target(target_func):\n",
        "    x = np.linspace(-3,3, 1000) \n",
        "    plt.plot(x,target_func(x), linestyle='--', color='C1', linewidth=2)\n",
        "    \n",
        "def combine_neurons(neurons, weights, bias, target_func):\n",
        "    x = np.arange(-3, 3, 0.01)\n",
        "    y = np.zeros((len(neurons[0])))\n",
        "    plt.figure(figsize=(20,8))\n",
        "    fig, ax = plt.subplots()\n",
        "    for index in range(len(neurons)):\n",
        "        y = y + neurons[index] * weights[index]\n",
        "    y = y + bias\n",
        "    y2 = target_func(x)\n",
        "    plt.plot(x, y, label='ReLUs', linewidth=3)\n",
        "    plt.plot(x, y2, label='Real Function', linestyle='--', color='C1', linewidth=2)\n",
        "    \n",
        "    mse = (np.sum((y - y2)**2)) / len(y)\n",
        "    \n",
        "    ax.grid(True, which='both')\n",
        "    ax.axhline(y=0, color='k', linewidth=0.75)\n",
        "    ax.axvline(x=0, color='k', linewidth=0.75)\n",
        "    plt.title(\"MSE = %f\" % mse)\n",
        "    \n",
        "from tensorflow.keras.activations import relu\n",
        "def neuron(w, b, plot=True):\n",
        "    x = np.arange(-3, 3, 0.01)\n",
        "    y = keras.activations.relu(x * w + b)\n",
        "    if plot:\n",
        "        fig, ax = plt.subplots()\n",
        "        plt.ylim((-10, 10)) \n",
        "        ax.grid(True, which='both')\n",
        "        plt.plot(x, y)\n",
        "    return y\n",
        "\n",
        "\n",
        "def approximate_NN(target_func, min_value=-10, max_value=10, epochs=50, hidden_layers=1, neurons_per_layer=8):\n",
        "    # Create a NN with a single hidden layer to learn the polynomial function\n",
        "    #\n",
        "    model = keras.Sequential()\n",
        "    for x in range(hidden_layers):\n",
        "        model.add(Dense(neurons_per_layer, input_dim=1, activation='relu', use_bias=True)) \n",
        "    model.add(Dense(1,  use_bias=True)) # 1 Neuron\n",
        "\n",
        "    sgd = Adam(lr=0.01) # set lower learning rate\n",
        "    model.compile(sgd, loss='mean_squared_error')\n",
        "\n",
        "    # Create some data\n",
        "    #\n",
        "    X = np.random.uniform(min_value, max_value, (50000,1))\n",
        "    Y = target_func(X)\n",
        "\n",
        "    model.fit(X,Y, epochs=epochs, batch_size=512);\n",
        "\n",
        "    # Plot neural network\n",
        "    #\n",
        "    x_test = np.arange(min_value-np.abs(min_value*0.25), max_value+np.abs(max_value*0.25), 0.01)\n",
        "    y_test_nn = model.predict(x_test)\n",
        "    y_real = target_func(x_test)\n",
        "    \n",
        "    mse = np.sum((np.ravel(y_real) - np.ravel(y_test_nn))**2)\n",
        "    \n",
        "    plt.figure(figsize=(8,5))\n",
        "    plt.axline((min_value, 0), (min_value,10), color=\"r\", linestyle='dashed', linewidth=0.75)\n",
        "    plt.axline((max_value, 0), (max_value,10), color=\"r\", linestyle='dashed', linewidth=0.75)\n",
        "    \n",
        "    plt.plot(x_test, y_test_nn, label='Approximation using NN')\n",
        "    plt.plot(x_test, y_real, linestyle ='-.', label='Real Function')\n",
        "    plt.legend()\n",
        "    \n",
        "    return model"
      ]
    },
    {
      "cell_type": "markdown",
      "id": "01ac1a66",
      "metadata": {
        "id": "01ac1a66"
      },
      "source": [
        "### Exercise 1:\n",
        "\n",
        "Remember how the universal approximation theorems tell us that neural networks can basically approximate any function. \n",
        "In this exercise we will use the ```approximate_NN()``` to test this theorem. You can supply custom mathematical function to approximate using lambdas such as the call:\n",
        "\n",
        "```python\n",
        "approximate_NN(lambda x: 3*(x**2) + 6, -10, 10, epochs=50, hidden_layers=1, neurons_per_layer=32)\n",
        "```\n",
        "\n",
        "will try to approximate the function $f(x):=3x^2 + 6$ within the interval $[-10;10]$ using 50 epochs for training a single layer of hidden neurons with 32 neurons each.\n",
        "\n",
        "I have also supplied you with some more complex functions (```target_poly```, ```target_poly3```,  ```target_poly7```, ```target_poly14```, ```mother_wavelet```).\n",
        "\n",
        "Try to answer these questions:\n",
        "* What is the effect of changing the number of neurons vs. the number of hidden layers?\n",
        "* What is the effect of having very simple vs. more and more complex functions with regards the the required neurons/layers?\n",
        "* Does more training (more epochs) automatically mean better result?\n",
        "* Can you find a function that we can not approximate?\n",
        "* What happens outside the interval we used for training (indicated by the red dashed lines in the plots)?   \n",
        "\n",
        "\n",
        "\n",
        "    "
      ]
    },
    {
      "cell_type": "code",
      "execution_count": 11,
      "id": "a2b06601",
      "metadata": {},
      "outputs": [
        {
          "name": "stdout",
          "output_type": "stream",
          "text": [
            "Epoch 1/30\n",
            "98/98 [==============================] - 3s 24ms/step - loss: nan\n",
            "Epoch 2/30\n",
            "98/98 [==============================] - 2s 25ms/step - loss: nan\n",
            "Epoch 3/30\n",
            "98/98 [==============================] - 2s 25ms/step - loss: nan\n",
            "Epoch 4/30\n",
            "98/98 [==============================] - 2s 24ms/step - loss: nan\n",
            "Epoch 5/30\n",
            "98/98 [==============================] - 2s 22ms/step - loss: nan\n",
            "Epoch 6/30\n",
            "98/98 [==============================] - 2s 23ms/step - loss: nan\n",
            "Epoch 7/30\n",
            "98/98 [==============================] - 2s 24ms/step - loss: nan\n",
            "Epoch 8/30\n",
            "98/98 [==============================] - 2s 24ms/step - loss: nan\n",
            "Epoch 9/30\n",
            "98/98 [==============================] - 2s 23ms/step - loss: nan\n",
            "Epoch 10/30\n",
            "98/98 [==============================] - 2s 24ms/step - loss: nan\n",
            "Epoch 11/30\n",
            "98/98 [==============================] - 2s 23ms/step - loss: nan\n",
            "Epoch 12/30\n",
            "98/98 [==============================] - 2s 24ms/step - loss: nan\n",
            "Epoch 13/30\n",
            "98/98 [==============================] - 2s 24ms/step - loss: nan\n",
            "Epoch 14/30\n",
            "98/98 [==============================] - 2s 24ms/step - loss: nan\n",
            "Epoch 15/30\n",
            "98/98 [==============================] - 2s 24ms/step - loss: nan\n",
            "Epoch 16/30\n",
            "98/98 [==============================] - 2s 25ms/step - loss: nan\n",
            "Epoch 17/30\n",
            "98/98 [==============================] - 3s 26ms/step - loss: nan\n",
            "Epoch 18/30\n",
            "98/98 [==============================] - 2s 25ms/step - loss: nan\n",
            "Epoch 19/30\n",
            "98/98 [==============================] - 2s 24ms/step - loss: nan\n",
            "Epoch 20/30\n",
            "98/98 [==============================] - 2s 24ms/step - loss: nan\n",
            "Epoch 21/30\n",
            "98/98 [==============================] - 2s 24ms/step - loss: nan\n",
            "Epoch 22/30\n",
            "98/98 [==============================] - 2s 23ms/step - loss: nan\n",
            "Epoch 23/30\n",
            "98/98 [==============================] - 2s 25ms/step - loss: nan\n",
            "Epoch 24/30\n",
            "98/98 [==============================] - 2s 24ms/step - loss: nan\n",
            "Epoch 25/30\n",
            "98/98 [==============================] - 2s 24ms/step - loss: nan\n",
            "Epoch 26/30\n",
            "98/98 [==============================] - 2s 24ms/step - loss: nan\n",
            "Epoch 27/30\n",
            "98/98 [==============================] - 2s 25ms/step - loss: nan\n",
            "Epoch 28/30\n",
            "98/98 [==============================] - 2s 25ms/step - loss: nan\n",
            "Epoch 29/30\n",
            "98/98 [==============================] - 3s 27ms/step - loss: nan\n",
            "Epoch 30/30\n",
            "98/98 [==============================] - 3s 26ms/step - loss: nan\n",
            "79/79 [==============================] - 0s 3ms/step\n",
            "Model: \"sequential_6\"\n",
            "_________________________________________________________________\n",
            " Layer (type)                Output Shape              Param #   \n",
            "=================================================================\n",
            " dense_108 (Dense)           (None, 256)               512       \n",
            "                                                                 \n",
            " dense_109 (Dense)           (None, 256)               65792     \n",
            "                                                                 \n",
            " dense_110 (Dense)           (None, 256)               65792     \n",
            "                                                                 \n",
            " dense_111 (Dense)           (None, 256)               65792     \n",
            "                                                                 \n",
            " dense_112 (Dense)           (None, 256)               65792     \n",
            "                                                                 \n",
            " dense_113 (Dense)           (None, 256)               65792     \n",
            "                                                                 \n",
            " dense_114 (Dense)           (None, 256)               65792     \n",
            "                                                                 \n",
            " dense_115 (Dense)           (None, 256)               65792     \n",
            "                                                                 \n",
            " dense_116 (Dense)           (None, 256)               65792     \n",
            "                                                                 \n",
            " dense_117 (Dense)           (None, 256)               65792     \n",
            "                                                                 \n",
            " dense_118 (Dense)           (None, 256)               65792     \n",
            "                                                                 \n",
            " dense_119 (Dense)           (None, 256)               65792     \n",
            "                                                                 \n",
            " dense_120 (Dense)           (None, 256)               65792     \n",
            "                                                                 \n",
            " dense_121 (Dense)           (None, 256)               65792     \n",
            "                                                                 \n",
            " dense_122 (Dense)           (None, 256)               65792     \n",
            "                                                                 \n",
            " dense_123 (Dense)           (None, 256)               65792     \n",
            "                                                                 \n",
            " dense_124 (Dense)           (None, 256)               65792     \n",
            "                                                                 \n",
            " dense_125 (Dense)           (None, 256)               65792     \n",
            "                                                                 \n",
            " dense_126 (Dense)           (None, 256)               65792     \n",
            "                                                                 \n",
            " dense_127 (Dense)           (None, 256)               65792     \n",
            "                                                                 \n",
            " dense_128 (Dense)           (None, 1)                 257       \n",
            "                                                                 \n",
            "=================================================================\n",
            "Total params: 1,250,817\n",
            "Trainable params: 1,250,817\n",
            "Non-trainable params: 0\n",
            "_________________________________________________________________\n"
          ]
        },
        {
          "data": {
            "image/png": "[encoded data removed]",
            "text/plain": [
              "<Figure size 576x360 with 1 Axes>"
            ]
          },
          "metadata": {
            "needs_background": "light"
          },
          "output_type": "display_data"
        }
      ],
      "source": [
        "model = approximate_NN(target_poly_14, -10, 10, epochs=30, hidden_layers=20, neurons_per_layer=256)\n",
        "model.summary()"
      ]
    },
    {
      "attachments": {},
      "cell_type": "markdown",
      "id": "6d6b101b",
      "metadata": {},
      "source": [
        "Hidden Layers vs. Nr. Neurons\n",
        "* For 32 neurons, loss was 0.79. For 128 neurons, loss was around 0.2. Meaning that the more neurons I have, the loss gets lower.\n",
        "* When increasing the number of hidden layers (while keeping the nr. of neurons the same), the amount of parameters used for training gets higher. The loss does not decrease continously, but jumps from a higher to a lower loss and vice versa.\n",
        "\n",
        "Simple vs. Complex target function:\n",
        "* For 32 neurons and 10 hidden layers, we got a very good approximation for target_func_3 (simple case).\n",
        "* For the same nr. of neurons and layers, we got a very bad approximation (only a linear function) for a complex function (mother_wavelet), meaning we got underfitting.\n",
        "\n",
        "Impact of Nr. Epochs:\n",
        "* No. Increasing the nr. of epochs does not automatically improve my results.\n",
        "* It may even lead to overfitting if I have to many epochs\n",
        "\n",
        "Find function we cannot approximate?\n",
        "* No\n",
        "* According to the UAT (Universal Approximate Theorem), we can approximate any continous function with a feed-forward nework using a single hidden layer (and mild assumptions on activation function)\n",
        "\n",
        "Outside interval?\n",
        "* We can only do predictions within an interval\n",
        "* Outside an interval, we have no influence, so approx. is very bad. \n"
      ]
    },
    {
      "cell_type": "markdown",
      "id": "20551992",
      "metadata": {
        "id": "20551992"
      },
      "source": [
        "### Exercise 2:\n",
        "\n",
        "In this exercise you are provided with a very simple neuron using a ReLU as activation function. You can supply the neurons parameters manually (the weight and bias term) as ```neuron(3, 2)``` will compute and plot all the output values generated by the neuron for all input values in an interval of $[-3;3]$. **Hint:** You can use the semi-colon in the call ```neuron(3, 2);``` to suppress the output. \n",
        "\n",
        "\n",
        "**Questions:**\n",
        "* What is the effect of changing the weight?\n",
        "* What is the effect of changing the bias?\n",
        "\n",
        "\n"
      ]
    },
    {
      "cell_type": "code",
      "execution_count": 5,
      "id": "0989d9ff",
      "metadata": {
        "id": "0989d9ff"
      },
      "outputs": [
        {
          "data": {
            "image/png": "[encoded data removed]",
            "text/plain": [
              "<Figure size 432x288 with 1 Axes>"
            ]
          },
          "metadata": {
            "needs_background": "light"
          },
          "output_type": "display_data"
        }
      ],
      "source": [
        "neuron(5,2);"
      ]
    },
    {
      "attachments": {},
      "cell_type": "markdown",
      "id": "3247b19c",
      "metadata": {},
      "source": [
        "The weight impacts the slope of the function. The slope changes proprotionally to the weight. The higher the weight, the steeper the function.\n",
        "The bias determines at which point the funcition goes through the y-axis. A positive bias moves function horizontally to left."
      ]
    },
    {
      "cell_type": "markdown",
      "id": "b5060133",
      "metadata": {
        "id": "b5060133"
      },
      "source": [
        "### Exercise 3:\n",
        "\n",
        "A mathematical function is linear iff $f(x)+f(y) = f(x+y)$ and $\\lambda f(x) = f(\\lambda x)$.\n",
        "\n",
        "* Show that ReLU is not a linear function. "
      ]
    },
    {
      "attachments": {},
      "cell_type": "markdown",
      "id": "faeedb1e",
      "metadata": {},
      "source": [
        "ReLu f(x) = max(0, x)\n",
        "\n",
        "#### First Rule\n",
        "f(-2) + f(1) = f(-2 + 1)\n",
        "\n",
        "0 + 1 = 0 --> wrong\n",
        "\n",
        "#### Second Rule\n",
        "(-3) * f(-1) = f((-3) * (-1))\n",
        "\n",
        "(-3) * 0 = f(3)\n",
        "\n",
        "0 = 3 --> wrong\n"
      ]
    },
    {
      "cell_type": "markdown",
      "id": "932796f9",
      "metadata": {
        "id": "932796f9"
      },
      "source": [
        "### Exercise 4:\n",
        "\n",
        "You saw that we can combine neurons to a neural network. Try to manually find the weights for approximating the ```target_poly_3``` function.  Use the ```combine_neurons``` function to combine multiple neurons. \n",
        "\n",
        "```python \n",
        "def combine_neurons(neurons, weights, bias, target_func):\n",
        "    \"\"\" Parameters:\n",
        "    neurons - a list of neurons such sa created by the neuron() function\n",
        "    weights - a list of weights used by the output layer neuron\n",
        "    bias - a single bias value used by the output layer neuron\n",
        "    target_func - a function to plot as reference for approximation\n",
        "    \"\"\"\n",
        "    \n",
        "```\n",
        "\n",
        "* Manually find the parameters of a neural network to approximate the ```target_poly_3``` function (*You can do this via trial and error, no calculations are necessary*).\n",
        "* Try to find the parameters of a neural network to approximate the ```target_sine``` function (*this might be difficult*).\n",
        "* Use the call to ```model = approximate_NN(...)``` to let tensorflow find the weights and biases for approximating the ```target_sine``` function. Have a look at ```model.layers[0].weights``` and ```model.layers[1].weights``` to help you find appropriate parameters for this problem. \n",
        "\n",
        "    "
      ]
    },
    {
      "cell_type": "code",
      "execution_count": 13,
      "id": "b0bf1a56",
      "metadata": {
        "id": "b0bf1a56",
        "outputId": "50802e31-3821-410f-e46a-8c5ec76708d9"
      },
      "outputs": [
        {
          "data": {
            "text/plain": [
              "<Figure size 1440x576 with 0 Axes>"
            ]
          },
          "metadata": {},
          "output_type": "display_data"
        },
        {
          "data": {
            "image/png": "[encoded data removed]",
            "text/plain": [
              "<Figure size 432x288 with 1 Axes>"
            ]
          },
          "metadata": {
            "needs_background": "light"
          },
          "output_type": "display_data"
        }
      ],
      "source": [
        "\n",
        "r1 = neuron(30, -40, False)\n",
        "r2 = neuron(-30, -51, False)\n",
        "\n",
        "combine_neurons([r1, r2,], [1, -1,], 0, target_poly_3)"
      ]
    },
    {
      "cell_type": "code",
      "execution_count": 48,
      "id": "10657221",
      "metadata": {},
      "outputs": [
        {
          "data": {
            "text/plain": [
              "<Figure size 1440x576 with 0 Axes>"
            ]
          },
          "metadata": {},
          "output_type": "display_data"
        },
        {
          "data": {
            "image/png": "[encoded data removed]",
            "text/plain": [
              "<Figure size 432x288 with 1 Axes>"
            ]
          },
          "metadata": {
            "needs_background": "light"
          },
          "output_type": "display_data"
        }
      ],
      "source": [
        "n1 = neuron(-0.33069903, 0.511848,False)\n",
        "n2 = neuron(0.8296534, -1.4627434, False)\n",
        "n3 = neuron(-0.4316989, 0.36551768, False)\n",
        "n4 = neuron(-0.57583934, -1.0538672, False)\n",
        "n5 = neuron(-0.73144996, -0.74761295, False)\n",
        "\n",
        "combine_neurons([n1,n2,n3,n4, n5], [-1.1522008, -0.8876237, -1.2196454, 1.4507078, 1.1192176], 1.0434003, target_sine)"
      ]
    },
    {
      "cell_type": "code",
      "execution_count": 50,
      "id": "b35178b2",
      "metadata": {},
      "outputs": [
        {
          "name": "stdout",
          "output_type": "stream",
          "text": [
            "Epoch 1/30\n",
            "98/98 [==============================] - 0s 871us/step - loss: 0.1308\n",
            "Epoch 2/30\n",
            "98/98 [==============================] - 0s 869us/step - loss: 0.0486\n",
            "Epoch 3/30\n",
            "98/98 [==============================] - 0s 825us/step - loss: 0.0310\n",
            "Epoch 4/30\n",
            "98/98 [==============================] - 0s 754us/step - loss: 0.0260\n",
            "Epoch 5/30\n",
            "98/98 [==============================] - 0s 720us/step - loss: 0.0231\n",
            "Epoch 6/30\n",
            "98/98 [==============================] - 0s 945us/step - loss: 0.0190\n",
            "Epoch 7/30\n",
            "98/98 [==============================] - 0s 884us/step - loss: 0.0144\n",
            "Epoch 8/30\n",
            "98/98 [==============================] - 0s 788us/step - loss: 0.0101\n",
            "Epoch 9/30\n",
            "98/98 [==============================] - 0s 803us/step - loss: 0.0070\n",
            "Epoch 10/30\n",
            "98/98 [==============================] - 0s 1ms/step - loss: 0.0052\n",
            "Epoch 11/30\n",
            "98/98 [==============================] - 0s 691us/step - loss: 0.0043\n",
            "Epoch 12/30\n",
            "98/98 [==============================] - 0s 714us/step - loss: 0.0039\n",
            "Epoch 13/30\n",
            "98/98 [==============================] - 0s 804us/step - loss: 0.0036\n",
            "Epoch 14/30\n",
            "98/98 [==============================] - 0s 707us/step - loss: 0.0034\n",
            "Epoch 15/30\n",
            "98/98 [==============================] - 0s 729us/step - loss: 0.0033\n",
            "Epoch 16/30\n",
            "98/98 [==============================] - 0s 721us/step - loss: 0.0032\n",
            "Epoch 17/30\n",
            "98/98 [==============================] - 0s 750us/step - loss: 0.0031\n",
            "Epoch 18/30\n",
            "98/98 [==============================] - 0s 747us/step - loss: 0.0031\n",
            "Epoch 19/30\n",
            "98/98 [==============================] - 0s 810us/step - loss: 0.0031\n",
            "Epoch 20/30\n",
            "98/98 [==============================] - 0s 801us/step - loss: 0.0031\n",
            "Epoch 21/30\n",
            "98/98 [==============================] - 0s 802us/step - loss: 0.0032\n",
            "Epoch 22/30\n",
            "98/98 [==============================] - 0s 735us/step - loss: 0.0031\n",
            "Epoch 23/30\n",
            "98/98 [==============================] - 0s 795us/step - loss: 0.0030\n",
            "Epoch 24/30\n",
            "98/98 [==============================] - 0s 907us/step - loss: 0.0031\n",
            "Epoch 25/30\n",
            "98/98 [==============================] - 0s 746us/step - loss: 0.0032\n",
            "Epoch 26/30\n",
            "98/98 [==============================] - 0s 713us/step - loss: 0.0030\n",
            "Epoch 27/30\n",
            "98/98 [==============================] - 0s 1ms/step - loss: 0.0031\n",
            "Epoch 28/30\n",
            "98/98 [==============================] - 0s 862us/step - loss: 0.0030\n",
            "Epoch 29/30\n",
            "98/98 [==============================] - 0s 903us/step - loss: 0.0030\n",
            "Epoch 30/30\n",
            "98/98 [==============================] - 0s 793us/step - loss: 0.0030\n",
            "24/24 [==============================] - 0s 722us/step\n",
            "[<tf.Variable 'dense_157/kernel:0' shape=(1, 5) dtype=float32, numpy=\n",
            "array([[0.61577195, 0.05107585, 0.9505386 , 0.7093775 , 0.5282604 ]],\n",
            "      dtype=float32)>, <tf.Variable 'dense_157/bias:0' shape=(5,) dtype=float32, numpy=\n",
            "array([ 1.8461634 , -0.17187054, -1.3254478 ,  0.8024311 ,  1.0458351 ],\n",
            "      dtype=float32)>]\n",
            "[<tf.Variable 'dense_158/kernel:0' shape=(5, 1) dtype=float32, numpy=\n",
            "array([[-1.2352742 ],\n",
            "       [-0.81009585],\n",
            "       [-1.4641479 ],\n",
            "       [ 1.1797328 ],\n",
            "       [ 1.4462953 ]], dtype=float32)>, <tf.Variable 'dense_158/bias:0' shape=(1,) dtype=float32, numpy=array([-0.19505145], dtype=float32)>]\n"
          ]
        },
        {
          "data": {
            "image/png": "[encoded data removed]",
            "text/plain": [
              "<Figure size 576x360 with 1 Axes>"
            ]
          },
          "metadata": {
            "needs_background": "light"
          },
          "output_type": "display_data"
        }
      ],
      "source": [
        "model = approximate_NN(target_sine, -3, 3, epochs=30, hidden_layers=1, neurons_per_layer=5)\n",
        "print(model.layers[0].weights)\n",
        "print(model.layers[1].weights)"
      ]
    },
    {
      "cell_type": "markdown",
      "id": "d2d77900",
      "metadata": {
        "id": "d2d77900"
      },
      "source": [
        "## Exercise 5:\n",
        "\n",
        "1. We have a network with 3 hidden layers. The amount of neurons in the first, second and third hidden layer is 10, 20 and 30. Each layer uses a bias term. The output layer contains 5 neurons and does not use a bias term. The input dimension of our data is 17. \n",
        "\n",
        "* Draw the architecture of this NN by hand and calculate the total number of parameters (weights+biases) \n",
        "* Implement the architecture in Keras and verify your result. \n"
      ]
    },
    {
      "attachments": {},
      "cell_type": "markdown",
      "id": "9b3b0e8a",
      "metadata": {},
      "source": [
        "![nn](NN_Ex05.jpg)"
      ]
    },
    {
      "cell_type": "code",
      "execution_count": 5,
      "id": "557af6f4",
      "metadata": {},
      "outputs": [
        {
          "name": "stdout",
          "output_type": "stream",
          "text": [
            "Model: \"sequential_2\"\n",
            "_________________________________________________________________\n",
            " Layer (type)                Output Shape              Param #   \n",
            "=================================================================\n",
            " dense_8 (Dense)             (None, 10)                180       \n",
            "                                                                 \n",
            " dense_9 (Dense)             (None, 20)                220       \n",
            "                                                                 \n",
            " dense_10 (Dense)            (None, 30)                630       \n",
            "                                                                 \n",
            " dense_11 (Dense)            (None, 5)                 150       \n",
            "                                                                 \n",
            "=================================================================\n",
            "Total params: 1,180\n",
            "Trainable params: 1,180\n",
            "Non-trainable params: 0\n",
            "_________________________________________________________________\n"
          ]
        }
      ],
      "source": [
        "\n",
        "model = keras.Sequential()\n",
        "model.add(Dense(10, input_dim=17, activation='relu', use_bias=True))\n",
        "model.add(Dense(20, activation='relu', use_bias=True))\n",
        "model.add(Dense(30, activation='relu', use_bias=True))\n",
        "model.add(Dense(5, use_bias=False))\n",
        "\n",
        "model.summary()"
      ]
    },
    {
      "cell_type": "markdown",
      "id": "9c3ea290",
      "metadata": {
        "id": "9c3ea290"
      },
      "source": [
        "## Exercise 6: Stochastic Gradient Descent\n",
        "\n",
        "In gradient descent we move along the negative gradient to find a minimum of a function. This is the way neural networks are trained today. I have supplied you with an implementation of gradient descent \n",
        "```SGD(func, start_value, xmin = -2.5, xmax = 2, learning_rate=0.1, iterations=10)```. I have also provided an interesting target polynomial ```target``` for you. \n",
        "\n",
        "* Try to find the minimum within the interval $[-2.5;2]$ of the target polynomial using ```SGD```.\n",
        "* What is the impact of the learning rate (too high or too low) on the result?\n",
        "* What is the impact of the number of iterations on the result?\n",
        "\n",
        "Experiment with different start values and see how the algorithm performs depending on the chosen parameters for learning rate and iterations. "
      ]
    },
    {
      "cell_type": "code",
      "execution_count": 20,
      "id": "8f83a34c",
      "metadata": {
        "id": "8f83a34c"
      },
      "outputs": [],
      "source": [
        "# A very high dimensional polygon\n",
        "def target(x):\n",
        "    output = np.empty(len(x))\n",
        "    for i in range(len(x)):\n",
        "        output[i] = 0.001 * (x[i]**14 - 0.97*x[i]**13 - 27.5669*x[i]**12 + 28.596911*x[i]**11 + 291.72658501*x[i]**10 - 322.8791018467*x[i]**9 - 1482.7415839005*x[i]**8 + 1741.757256169*x[i]**7 + 3643.0791581657*x[i]**6 - 4525.2996198175*x[i]**5 - 3566.980623085*x[i]**4 + 4745.7344671655*x[i]**3 + 263.42489522071*x[i]**2 - 614.82116925297+x[i] + 66.216725787218)\n",
        "    return output\n",
        "\n",
        "def SGD(func, start_value, xmin = -2.5, xmax = 2, learning_rate=0.1, iterations=10):\n",
        "    min_values = []\n",
        "\n",
        "    min_values.append(start_value)\n",
        "    min_value = start_value\n",
        "    delta = 0.01\n",
        "    diverge = False\n",
        "    \n",
        "    for i in range(iterations):\n",
        "        # Compute approximative derivative numerically, usually we do this\n",
        "        # with a correctly compute partial derivative\n",
        "        f1 = func([min_value + delta])\n",
        "        f2 = func([min_value - delta])\n",
        "        derivative = (f1[0] - f2[0]) / (2*delta)\n",
        " \n",
        "        # Move the opt_value along the derivative\n",
        "        min_value = min_value - learning_rate * derivative\n",
        "         \n",
        "        # Check if we diverge to save the plot\n",
        "        if min_value < xmin:\n",
        "            diverge= True\n",
        "            min_values.append(xmin)\n",
        "            break\n",
        "        if min_value > xmax:\n",
        "            diverge= True\n",
        "            min_values.append(xmax)\n",
        "            break\n",
        "            \n",
        "        min_values.append(min_value)\n",
        "        \n",
        "    # For plotting only\n",
        "    fig, ax = plt.subplots(figsize=(12,6))\n",
        "    x = np.arange(xmin, xmax, 0.01)\n",
        "    y = func(x)\n",
        "    plt.plot(x, y)\n",
        "    \n",
        "    fm = func(min_values)\n",
        "    plt.plot(min_values, fm, 'ro-')\n",
        "    ax.grid(True, which='both')\n",
        "    \n",
        "    if diverge:\n",
        "        plt.title('Optimization Diverged at: %f' % min_value)\n",
        "    return min_value"
      ]
    },
    {
      "cell_type": "code",
      "execution_count": 48,
      "id": "b7e262e0",
      "metadata": {},
      "outputs": [
        {
          "name": "stdout",
          "output_type": "stream",
          "text": [
            "-1.1297335145894016\n"
          ]
        },
        {
          "data": {
            "image/png": "[encoded data removed]",
            "text/plain": [
              "<Figure size 864x432 with 1 Axes>"
            ]
          },
          "metadata": {
            "needs_background": "light"
          },
          "output_type": "display_data"
        }
      ],
      "source": [
        "minVal = SGD(target, -2.5, iterations=40)\n",
        "print(minVal)\n"
      ]
    },
    {
      "attachments": {},
      "cell_type": "markdown",
      "id": "07e178c9",
      "metadata": {},
      "source": [
        "Impact of Learning Rate:\n",
        "* Too high (e.g 2) means we make big updates, but do reach only a really bad minimum\n",
        "* Too low (e.g 0.0005) means we make only small update. If we start at a pretty bad spot (e.g. rather at a maximum), then we will not reach the optimal minimum (= get stuck at a saddle point or local minimum)\n",
        "\n",
        "\n",
        "Impact of Nr. Iterations:\n",
        "*"
      ]
    },
    {
      "cell_type": "markdown",
      "id": "514e97ef",
      "metadata": {
        "id": "514e97ef"
      },
      "source": [
        "### Exercise 7: Stochastic Gradient Descent with Momentum\n",
        "\n",
        "In gradient descent with momentumm we move along the negative gradient to find a minimum of a function but use our previous updates to skip over small bumps.I have supplied you with an implementation of gradient descent with momentum ```SGD_Momentum(func, start_value, xmin = -2.5, xmax = 2, learning_rate=0.1, momentum = 0.1, iterations=10)```. I have also provided an interesting target polynomial ```target``` for you. \n",
        "\n",
        "* Try to find the minimum within the interval $[-2.5;2]$ of the target polynomial using ```SGD with momentum```.\n",
        "* What is the impact of the learning rate (too high or too low) on the result?\n",
        "* What is the impact of the momentum (too high or too low) on the result?\n",
        "* What is the impact of the number of iterations on the result?\n",
        "\n",
        "Experiment with different start values and see how the algorithm performs depending on the chosen parameters for learning rate and iterations. "
      ]
    },
    {
      "cell_type": "code",
      "execution_count": null,
      "id": "c48b8420",
      "metadata": {
        "id": "c48b8420"
      },
      "outputs": [],
      "source": [
        "import math\n",
        "\n",
        "\n",
        "def SGD_Momentum(func, start_value, xmin = -2.5, xmax = 2, learning_rate=0.1, momentum = 0.1, iterations=10):\n",
        "    min_values = []\n",
        "\n",
        "    min_values.append(start_value)\n",
        "    min_value = start_value\n",
        "    \n",
        "    update_min_value = 0\n",
        "    delta = 0.01\n",
        "    diverge = False\n",
        "    \n",
        "    for i in range(iterations):\n",
        "        # Compute approximative derivative numerically, usually we do this\n",
        "        # with symbolically computed partial derivatives\n",
        "        f1 = func([min_value + delta])\n",
        "        f2 = func([min_value - delta])\n",
        "        derivative = (f1[0] - f2[0]) / (2*delta)\n",
        " \n",
        "        # Move the opt_value along the derivative with Momentum\n",
        "        update_min_value = momentum * update_min_value - learning_rate * derivative\n",
        "        min_value = min_value + update_min_value\n",
        "        \n",
        "        # Check if we diverge to save the plot\n",
        "        if min_value < xmin:\n",
        "            diverge= True\n",
        "            min_values.append(xmin)\n",
        "            break\n",
        "        if min_value > xmax:\n",
        "            diverge= True\n",
        "            min_values.append(xmax)\n",
        "            break\n",
        "            \n",
        "        min_values.append(min_value)   \n",
        "        \n",
        "        \n",
        "    # For plotting only\n",
        "    fig, ax = plt.subplots(figsize=(12,6))\n",
        "    x = np.arange(xmin, xmax, 0.01)\n",
        "    y = func(x)\n",
        "    plt.plot(x, y)\n",
        "    \n",
        "    fm = func(min_values)\n",
        "    plt.plot(min_values, fm, 'ro-')\n",
        "    plt.plot(min_values[-1], fm[-1], 'go')\n",
        "    plt.plot(min_values[0], fm[0], 'bo')\n",
        "    ax.grid(True, which='both')\n",
        "    \n",
        "    if diverge:\n",
        "        plt.title('Optimization Diverged at: %f' % min_value)\n",
        "    return min_value"
      ]
    },
    {
      "cell_type": "markdown",
      "id": "09a2c06e",
      "metadata": {
        "id": "09a2c06e"
      },
      "source": [
        "## Exercise 8\n",
        "\n",
        "In this exercise your job is to create a neural network that allows us to classify the baseball dataset. The dataset is comprised of a bunch of statistics per player. Your job is to create a neural-network that is capable of predicting wether the player will be accepted into the hall of fame or not. \n",
        "\n",
        "* Load the baseball dataset using ```load_dataset(../data/baseball.pickle)```.\n",
        "* Have a look at the dataset, there are multiple fields such as Attributes, Targets, Description, ...\n",
        "* Create a neural network using ```keras``` to predict if a player will be accepted into the the hall-of-fame or not.\n",
        "* Evaluate your model using appropriate cross-validation schemes. "
      ]
    },
    {
      "cell_type": "code",
      "execution_count": null,
      "id": "c1a2d106",
      "metadata": {
        "id": "c1a2d106",
        "outputId": "8af21de2-6f7e-40a1-9de0-22b028fcef57"
      },
      "outputs": [
        {
          "name": "stderr",
          "output_type": "stream",
          "text": [
            "'wget' is not recognized as an internal or external command,\n",
            "operable program or batch file.\n"
          ]
        }
      ],
      "source": [
        "# Download data\n",
        "#\n",
        "!wget https://github.com/shegenbart/Jupyter-Exercises/raw/main/data/baseball.pickle -P ../data\n",
        "\n",
        "#Imports, Helper Functions and Data Structures\n",
        "#\n",
        "import numpy as np\n",
        "import pickle\n",
        "\n",
        "from dataclasses import dataclass\n",
        "def load_dataset(filename):\n",
        "    with open(filename, 'rb') as fd:\n",
        "        dataset = pickle.load(fd)\n",
        "    return dataset\n",
        "\n",
        "# Baseball dataset\n",
        "#\n",
        "@dataclass\n",
        "class Dataset:\n",
        "    Description: str\n",
        "    Attributes: list()\n",
        "    Targets: list()\n",
        "    X: np.array\n",
        "    Y: np.array"
      ]
    }
  ],
  "metadata": {
    "celltoolbar": "Edit Metadata",
    "colab": {
      "provenance": []
    },
    "kernelspec": {
      "display_name": "Python 3",
      "language": "python",
      "name": "python3"
    },
    "language_info": {
      "codemirror_mode": {
        "name": "ipython",
        "version": 3
      },
      "file_extension": ".py",
      "mimetype": "text/x-python",
      "name": "python",
      "nbconvert_exporter": "python",
      "pygments_lexer": "ipython3",
      "version": "3.10.4"
    },
    "vscode": {
      "interpreter": {
        "hash": "cb69c4671c883ed6a4df5072a4d94acbf114d31e22cae574724676294076912d"
      }
    }
  },
  "nbformat": 4,
  "nbformat_minor": 5
}
