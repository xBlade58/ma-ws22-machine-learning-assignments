{
  "cells": [
    {
      "cell_type": "markdown",
      "metadata": {
        "id": "qXuOWFoU2VqW"
      },
      "source": [
        "# Support Vector Machines Exercises"
      ]
    },
    {
      "cell_type": "code",
      "execution_count": null,
      "metadata": {
        "id": "vFuL6I102VqZ",
        "outputId": "0a290823-64b6-42fd-e4a7-2e4da2836044"
      },
      "outputs": [
        {
          "name": "stdout",
          "output_type": "stream",
          "text": [
            "Requirement already satisfied: qpsolvers in c:\\anaconda\\envs\\ml-3.8\\lib\\site-packages (2.3.0)\n",
            "Requirement already satisfied: scipy>=1.2.0 in c:\\anaconda\\envs\\ml-3.8\\lib\\site-packages (from qpsolvers) (1.8.1)\n",
            "Requirement already satisfied: numpy<1.25.0,>=1.17.3 in c:\\anaconda\\envs\\ml-3.8\\lib\\site-packages (from scipy>=1.2.0->qpsolvers) (1.22.4)\n",
            "Looking in indexes: https://pypi.gurobi.com\n",
            "Requirement already satisfied: gurobipy in c:\\anaconda\\envs\\ml-3.8\\lib\\site-packages (10.0.0)\n"
          ]
        },
        {
          "name": "stderr",
          "output_type": "stream",
          "text": [
            "'wget' is not recognized as an internal or external command,\n",
            "operable program or batch file.\n"
          ]
        }
      ],
      "source": [
        "# Install qsolvers and gurobi solver\n",
        "#\n",
        "!pip install qpsolvers\n",
        "!pip install -i https://pypi.gurobi.com gurobipy\n",
        "\n",
        "# Download data\n",
        "#\n",
        "!wget https://github.com/shegenbart/Jupyter-Exercises/raw/main/data/baseball.pickle -P ../data"
      ]
    },
    {
      "cell_type": "code",
      "execution_count": 2,
      "metadata": {
        "id": "fn93sCWS2Vqc"
      },
      "outputs": [],
      "source": [
        "#Imports, Helper Functions and Data Structures\n",
        "#\n",
        "\n",
        "import numpy as np\n",
        "from qpsolvers import solve_qp \n",
        "import numpy as np\n",
        "import pickle\n",
        "\n",
        "from dataclasses import dataclass\n",
        "def load_dataset(filename):\n",
        "    with open(filename, 'rb') as fd:\n",
        "        dataset = pickle.load(fd)\n",
        "    return dataset\n",
        "\n",
        "# Baseball dataset\n",
        "#\n",
        "@dataclass\n",
        "class Dataset:\n",
        "    Description: str\n",
        "    Attributes: list()\n",
        "    Targets: list()\n",
        "    X: np.array\n",
        "    Y: np.array\n",
        "        \n",
        "\n",
        "# Helper functions needed for exercise\n",
        "#\n",
        "def plot_hyperplane(X,Y, n, b):\n",
        "    \"\"\"Plots the hyperplane defined by normalvector n and bias b.\n",
        "    \n",
        "    Parameters\n",
        "    ----------\n",
        "    X: np.array\n",
        "        A two-dimensonal numpy array containing features. \n",
        "    Y: np.array\n",
        "        A one dimensional numpy array containing class labels. Class labels\n",
        "        are assumed not to be one-hot encoded but categorical integer values. \n",
        "    n: np.array\n",
        "        A two-dimensional normalvector. \n",
        "    b: float\n",
        "        Bias of the hyperplane. \n",
        "\n",
        "    Returns\n",
        "    ----------\n",
        "    Nothing\n",
        "    \"\"\"\n",
        "\n",
        "    fig = plt.figure(figsize=(10,5))\n",
        "    plt.scatter(X[Y == 1, 0], X[Y == 1, 1])\n",
        "    plt.scatter(X[Y == -1, 0], X[Y == -1, 1])\n",
        "        \n",
        "    ax = plt.gca()\n",
        "    xlim = ax.get_xlim()\n",
        "    ylim = ax.get_ylim()\n",
        "\n",
        "    xx = np.linspace(xlim[0], xlim[1], 30)\n",
        "    yy = np.linspace(ylim[0], ylim[1], 30)\n",
        "    YY, XX = np.meshgrid(yy, xx)\n",
        "    xy = np.vstack([XX.ravel(), YY.ravel()]).T\n",
        "    Z = (np.dot(xy, n) - b).reshape(XX.shape)\n",
        "    cs = ax.contour(XX, YY, Z, colors='k', levels=[-1, 0, 1], alpha=0.5,\n",
        "               linestyles=['--', '-', '--'])\n",
        "    \n",
        "    plt.clabel(cs, inline=1) \n",
        "    plt.grid(True)\n",
        "    \n",
        "    \n",
        "def gen_data(npoints=10, linear_separable=True):\n",
        "    \n",
        "    assert npoints >= 4, 'Requires at least 4 points. '\n",
        "    \n",
        "    # Generate a random normal-vector\n",
        "    #\n",
        "    n = np.random.randn(2)\n",
        "    n = n / np.linalg.norm(n)\n",
        "\n",
        "    # Generate a random bias\n",
        "    # \n",
        "    b = np.random.randn(1)\n",
        "\n",
        "    # Generate random points and label them such that they are linearly separable\n",
        "    #\n",
        "    X = np.random.randn(npoints,2) * 5\n",
        "\n",
        "    tmp = np.dot(X, n) - b > 0\n",
        "    Y = np.zeros(tmp.shape)\n",
        "    Y[tmp == True] = 1\n",
        "    Y[tmp == False] = -1\n",
        "    \n",
        "    if linear_separable == False:\n",
        "        np.random.shuffle(Y)\n",
        "    \n",
        "    fig = plt.figure(figsize=(10,5))\n",
        "    plt.scatter(X[Y == 1,0], X[Y == 1,1])\n",
        "    plt.scatter(X[Y == -1,0], X[Y == -1,1])\n",
        "    plt.grid(True)\n",
        "\n",
        "    return X,Y\n",
        "\n",
        "import numpy as np\n",
        "import matplotlib.pyplot as plt\n",
        "\n",
        "def plot_svm(X,Y, clf):\n",
        "\n",
        "    fig = plt.figure(figsize=(10,5))\n",
        "    plt.scatter(X[Y == 1, 0], X[Y == 1, 1])\n",
        "    plt.scatter(X[Y == -1, 0], X[Y == -1, 1])\n",
        "        \n",
        "    ax = plt.gca()\n",
        "    xlim = ax.get_xlim()\n",
        "    ylim = ax.get_ylim()\n",
        "\n",
        "    xx = np.linspace(xlim[0], xlim[1], 30)\n",
        "    yy = np.linspace(ylim[0], ylim[1], 30)\n",
        "    YY, XX = np.meshgrid(yy, xx)\n",
        "    xy = np.vstack([XX.ravel(), YY.ravel()]).T\n",
        "    Z = clf.decision_function(xy).reshape(XX.shape)\n",
        "    cs = ax.contour(XX, YY, Z, colors='k', levels=[-1, 0, 1], alpha=0.5,\n",
        "               linestyles=['--', '-', '--'])\n",
        "    \n",
        "    plt.clabel(cs, inline=1) \n",
        "    plt.grid(True)"
      ]
    },
    {
      "cell_type": "markdown",
      "metadata": {
        "id": "u5Qw4WFA2Vqf"
      },
      "source": [
        "## Exercise: SVM Hard-Margin\n",
        "\n",
        "Remember: We formulated the search for the best hyperplane as an optimization problem of the form\n",
        "\n",
        "$$\\begin{equation*}\n",
        "\\begin{aligned}\n",
        "& \\underset{n}{\\text{minimize}}\n",
        "& & \\|n\\| = \\sum_i n_i^2 \\\\\n",
        "& \\text{subject to}\n",
        "& &y_i (n \\cdot x_i -b) \\geq 1, \\quad \\forall i.\n",
        "\\end{aligned}\n",
        "\\end{equation*}$$\n",
        "\n",
        "\n",
        "We have a quadratic objective function and linear constraints. Problems of this sort are known as quadratic programs (QP). \n",
        "\n",
        "Quadratic programs are defined as\n",
        "$$\\begin{equation*}\n",
        "\\begin{aligned}\n",
        "& \\underset{x}{\\text{minimize}}\n",
        "& & \\frac{1}{2} x^T P x + q^Tx \\\\\n",
        "& \\text{subject to}\n",
        "& & Gx \\leq h \\\\\n",
        "& & & A x = b \\\\\n",
        "& & & lb \\leq x \\leq ub\n",
        "\\end{aligned}\n",
        "\\end{equation*}$$\n",
        "\n",
        "We use a QP solver to find our solution given a set of linear equality constraints and a set of linear inequality constraints. In our example, there are only inequality constraints and an objective function, we therefore have to **define** $P$, $q$, $G$ and $h$. \n",
        "\n",
        "In this example we assume our points are 2-dimensional. Therefore the normalvector of our plane is only 2-dimensional $n=(n_x, n_y)^T$.\n",
        "\n",
        "\n",
        "\n",
        "\n",
        "### Exercise 1:\n",
        "We start by defining our objective function in the form $\\frac{1}{2} x^T P x + q^Tx$ where $x$ is a vector of our variables $(n_x, n_y, b)$, $P$ is a quadratic cost-matrix and $q$ is a cost-vector. \n",
        "\n",
        "Find a 3x3-matrix $P$ and a 1x3-vector $q$ such that:\n",
        "\n",
        "$(n_x, n_y, b)\\; P\\; (n_x, n_y, b)^T + q\\; (n_x, n_y, b)^T= n_x^2 + n_y^2$"
      ]
    },
    {
      "cell_type": "markdown",
      "metadata": {
        "id": "VdCseOyW2Vqh"
      },
      "source": [
        "*This exercise is best solved using pen and paper. Write your solution down here for later reference.*"
      ]
    },
    {
      "cell_type": "markdown",
      "metadata": {
        "id": "tLV-YV0C2Vqi"
      },
      "source": [
        "### Exercise 2:\n",
        "\n",
        "\n",
        "We next have to convert our constraints from $\\geq$ to $\\leq$. We do this by multiplying the inequality with $-1$\n",
        "\n",
        "$$y_i (n \\cdot x_i -b) \\geq 1 = -y_i (n \\cdot x_i -b) \\leq -1$$\n",
        "\n",
        "For a given set of two points $x_1 = (x_{11}, x_{12}) = (3,2),\\, x_2 = (x_{21},x_{22}) = (-3,4)$ with labels $y_1 = 1, y_2 = -1$\n",
        "Find the matrix $G$ such that\n",
        "\n",
        "$G\\; (n_x, n_y, b)^T = \\begin{pmatrix}\n",
        "-y_1( n\\cdot x_1 -b)\\\\\n",
        "-y_2( n\\cdot x_2 -b)\n",
        "\\end{pmatrix} = \\begin{pmatrix}\n",
        "-y_1( n_x x_{11}  + n_y x_{12} -b)\\\\\n",
        "-y_2( n_x x_{21}  + n_y x_{22} -b)\n",
        "\\end{pmatrix} = \\begin{pmatrix}\n",
        "-3n_x  - 2n_y + b\\\\\n",
        "-3n_x  + 4n_y  -b\n",
        "\\end{pmatrix}$\n"
      ]
    },
    {
      "cell_type": "markdown",
      "metadata": {
        "id": "x6eowRAc2Vqi"
      },
      "source": [
        "*This exercise is best solved using pen and paper. Write your solution down here for later reference.*"
      ]
    },
    {
      "cell_type": "markdown",
      "metadata": {
        "id": "9614Rs9f2Vqj"
      },
      "source": [
        "### Exercise 3:\n",
        "\n",
        "Manually define $P$, $q$, $G$ and $h$ using appropriate numpy-arrays to solve the optimization problem with ```solve_qp(P,q,G,h)```. Then plot your results using the ```plot_hyperplane()``` function. "
      ]
    },
    {
      "cell_type": "code",
      "execution_count": null,
      "metadata": {
        "id": "_zcGI1iG2Vqj",
        "outputId": "6d0536da-d955-4830-db28-91603735b7af"
      },
      "outputs": [
        {
          "data": {
            "image/png": "[encoded data removed]",
            "text/plain": [
              "<Figure size 432x288 with 1 Axes>"
            ]
          },
          "metadata": {
            "needs_background": "light"
          },
          "output_type": "display_data"
        }
      ],
      "source": [
        "# Generates and plots the training data\n",
        "#\n",
        "X = np.array([[3, 2], [-3, 4]])\n",
        "Y = np.array([1, -1])\n",
        "\n",
        "\n",
        "import matplotlib.pyplot as plt\n",
        "plt.scatter(X[Y == 1,0], X[Y == 1,1])\n",
        "plt.scatter(X[Y == -1,0], X[Y == -1,1])\n",
        "plt.grid(True)\n"
      ]
    },
    {
      "cell_type": "markdown",
      "metadata": {
        "id": "LpVhLJJ72Vqm"
      },
      "source": [
        "### Exercise 4:\n",
        "\n",
        "We saw that $P$ and $q$ do not depend on our training-data. But $G$ and $h$ does depend on our training-data. \n",
        "* Implement a function that creates a matrix $G$ and vector $h$ based on a given set of training features $X$ and labels $Y$. \n",
        "* Use the ```gen_data()```function to generate data and use your implementation to find a hyperplane via ```solve_qp(P,q,G,h)``` and plot it. \n",
        "* Generate some non-linearly separable data using ```gen_data(linear_separable=False)```and try to find a hyperplane using the ```solve_qp(P,q,G,h)``` function, what happens and why? "
      ]
    },
    {
      "cell_type": "markdown",
      "metadata": {
        "id": "o_DdHN4D2Vqn"
      },
      "source": [
        "## Exercise: SVM in scikit-learn\n",
        "\n",
        "Let us now use the implementation of SVM from scikit-learn. "
      ]
    },
    {
      "cell_type": "markdown",
      "metadata": {
        "id": "WrF1d5bU2Vqn"
      },
      "source": [
        "## Exercise 1: \n",
        "\n",
        "* Generate some data using ```X,Y = gen_data()```.\n",
        "* Train a linear support vector machine using scikit-learn. \n",
        "* Plot your decision boundary using the ```plot_svm(X,Y,clf)``` function.\n",
        "* Have a look at the decision boundary (you can find the values of the normal vectors and bias term using clf.coef_[0] and clf.intercept_). What does it tell you?\n",
        "* If you did the Hard-Margin SVM Exercises: \n",
        "    * Compare the decision boundary found by scikit-learn to the decision boundary you would find using your **Hard-Margin SVM** from the previous exercise using the same training data.\n",
        "    * Compare the values of the normal vectors and bias term (clf.coef_[0] and clf.intercept_) to your **Hard-Margin** solution."
      ]
    },
    {
      "cell_type": "code",
      "execution_count": 30,
      "metadata": {
        "id": "LeVWHs-12Vqo"
      },
      "outputs": [
        {
          "data": {
            "image/png": "[encoded data removed]",
            "text/plain": [
              "<Figure size 720x360 with 1 Axes>"
            ]
          },
          "metadata": {
            "needs_background": "light"
          },
          "output_type": "display_data"
        },
        {
          "data": {
            "image/png": "[encoded data removed]",
            "text/plain": [
              "<Figure size 720x360 with 1 Axes>"
            ]
          },
          "metadata": {
            "needs_background": "light"
          },
          "output_type": "display_data"
        }
      ],
      "source": [
        "from sklearn import svm\n",
        "\n",
        "X, Y = gen_data(npoints=25)\n",
        "clf = svm.SVC(kernel='linear')\n",
        "clf.fit(X,Y)\n",
        "plot_svm(X, Y, clf)\n"
      ]
    },
    {
      "cell_type": "code",
      "execution_count": 31,
      "metadata": {},
      "outputs": [
        {
          "name": "stdout",
          "output_type": "stream",
          "text": [
            "Normal vector: [ 1.14765193 -0.57483867]\n",
            "bias: [1.43507713]\n",
            "dx = 1.9964765532149138*x - (-2.496486750762164)\n"
          ]
        }
      ],
      "source": [
        "nv = clf.coef_[0]\n",
        "bias = clf.intercept_\n",
        "\n",
        "n = -nv[0] / nv[1]\n",
        "d = bias[0] / nv[1]\n",
        "\n",
        "print(f\"Normal vector: {nv}\")\n",
        "print(f\"bias: {bias}\")\n",
        "print(f\"dx = {n}*x - ({d})\")"
      ]
    },
    {
      "attachments": {},
      "cell_type": "markdown",
      "metadata": {},
      "source": [
        "Decision Boundary is appropriate. All blue points lie below the boundary, while all orange points lie above the boundary."
      ]
    },
    {
      "cell_type": "markdown",
      "metadata": {
        "id": "b472zQEw2Vqo"
      },
      "source": [
        "## Exercise 2: \n",
        "\n",
        "* Generate some data using ```X,Y = gen_data(linear_separable=False)```.\n",
        "* Train a linear support vector machine using scikit-learn.\n",
        "* Plot your decision boundary using the ```plot_svm(X,Y,clf)``` function.\n",
        "* Train another suppor vector machine using the kernel trick in scikit-learn.\n",
        "* Plot your decision boundary of the non-linear svm using the ```plot_svm(X,Y,clf)``` function. How does the decision boundary change? What could possibly happen?"
      ]
    },
    {
      "cell_type": "code",
      "execution_count": 33,
      "metadata": {
        "id": "xYtVo7Wz2Vqp"
      },
      "outputs": [
        {
          "data": {
            "image/png": "[encoded data removed]",
            "text/plain": [
              "<Figure size 720x360 with 1 Axes>"
            ]
          },
          "metadata": {
            "needs_background": "light"
          },
          "output_type": "display_data"
        },
        {
          "data": {
            "image/png": "[encoded data removed]",
            "text/plain": [
              "<Figure size 720x360 with 1 Axes>"
            ]
          },
          "metadata": {
            "needs_background": "light"
          },
          "output_type": "display_data"
        }
      ],
      "source": [
        "X_NON_LIN, Y_NON_LIN = gen_data(linear_separable=False)\n",
        "clf_2  = svm.SVC(kernel=\"linear\")\n",
        "clf_2.fit(X_NON_LIN, Y_NON_LIN)\n",
        "\n",
        "plot_svm(X_NON_LIN, Y_NON_LIN, clf_2)"
      ]
    },
    {
      "attachments": {},
      "cell_type": "markdown",
      "metadata": {},
      "source": [
        "As the data is not linear seperable anymore, the decision boundary does not really make sense."
      ]
    },
    {
      "cell_type": "code",
      "execution_count": 34,
      "metadata": {},
      "outputs": [
        {
          "data": {
            "image/png": "[encoded data removed]",
            "text/plain": [
              "<Figure size 720x360 with 1 Axes>"
            ]
          },
          "metadata": {
            "needs_background": "light"
          },
          "output_type": "display_data"
        }
      ],
      "source": [
        "clf_trick = svm.SVC(kernel=\"rbf\")\n",
        "clf_trick.fit(X_NON_LIN, Y_NON_LIN)\n",
        "\n",
        "plot_svm(X_NON_LIN, Y_NON_LIN, clf_trick)"
      ]
    },
    {
      "attachments": {},
      "cell_type": "markdown",
      "metadata": {},
      "source": [
        "For the kernel trick, we just used kernel function \"RBF\". The decision boundry is not linar anymore.\n",
        "So, you cannot properly display it in a 2D plot. Since the data is transformed into higher dimensions, we receive a hyperplane to seperate the data more accurately. Moreover, it could possibly happen that the dimensions become very high => overfitting"
      ]
    },
    {
      "cell_type": "markdown",
      "metadata": {
        "id": "5GKTSDy62Vqp"
      },
      "source": [
        "## Exercise 3:\n",
        "\n",
        "* Load the baseball dataset using ```load_dataset(../data/baseball.pickle)```.\n",
        "* Have a look at the dataset, there are multiple fields such as Attributes, Targets, Description, ...\n",
        "* Train a support vector machine that predicts wether a player will end up in the hall-of-fame or not (you can use the ```accuracy_score()``` method from sklearn to easily do this. \n",
        "* Compare a linear and a non-linear SVM, what is better?\n",
        "\n",
        "**Notice:**\n",
        "\n",
        "Do not train and test on the same set of data, this will result in too high accuracy. Instead use cross validation such as:\n",
        "\n",
        "```python\n",
        "from sklearn.model_selection import train_test_split\n",
        "X_train, X_test, Y_train, Y_test = train_test_split(baseball.X, baseball.Y)\n",
        "```\n",
        "\n",
        "Then train on ```X_train, Y_train``` and predict using ```X_test and Y_test```."
      ]
    },
    {
      "cell_type": "code",
      "execution_count": 44,
      "metadata": {},
      "outputs": [
        {
          "name": "stdout",
          "output_type": "stream",
          "text": [
            "Description: Statistics of professional Baseball players.\n",
            "Attributes: ['Number_seasons', 'Games_played', 'At_bats', 'Runs', 'Hits', 'Doubles', 'Triples', 'Home_runs', 'RBIs', 'Walks', 'Strikeouts', 'Batting_average', 'On_base_pct', 'Slugging_pct', 'Fielding_ave', 'Position']\n",
            "Targets: ['Hall of Fame']\n",
            "Size: 1340\n"
          ]
        }
      ],
      "source": [
        "from sklearn.metrics import accuracy_score\n",
        "\n",
        "baseball = load_dataset('./baseball.pickle')\n",
        "print(f\"Description: {baseball.Description}\")\n",
        "print(f\"Attributes: {baseball.Attributes}\")\n",
        "print(f\"Targets: {baseball.Targets}\")\n",
        "print(f\"Size: {len(baseball.X)}\")\n",
        "\n",
        "\n",
        "from sklearn.model_selection import train_test_split\n",
        "X_train, X_test, Y_train, Y_test = train_test_split(baseball.X, baseball.Y)\n",
        "\n"
      ]
    },
    {
      "cell_type": "code",
      "execution_count": 45,
      "metadata": {},
      "outputs": [
        {
          "name": "stdout",
          "output_type": "stream",
          "text": [
            "Linear SVM, accuracy score: 0.9253731343283582\n"
          ]
        }
      ],
      "source": [
        "# Using linear SVM\n",
        "clf = svm.SVC(kernel='linear')\n",
        "clf.fit(X_train, Y_train)\n",
        "res = clf.predict(X_test)\n",
        "print(f\"Linear SVM, accuracy score: {accuracy_score(res, Y_test)}\")"
      ]
    },
    {
      "cell_type": "code",
      "execution_count": 48,
      "metadata": {},
      "outputs": [
        {
          "name": "stdout",
          "output_type": "stream",
          "text": [
            "Non-linear SVM, accuracy score: 0.9164179104477612\n"
          ]
        }
      ],
      "source": [
        "# Using non-linear SVM\n",
        "clf_non_linear = svm.SVC(kernel='rbf')\n",
        "clf_non_linear.fit(X_train, Y_train)\n",
        "res_non_linear = clf_non_linear.predict(X_test)\n",
        "print(f\"Non-linear SVM, accuracy score: {accuracy_score(res_non_linear, Y_test)}\")"
      ]
    },
    {
      "attachments": {},
      "cell_type": "markdown",
      "metadata": {},
      "source": [
        "We executed both SVMs multiple times. The linear SVM was most of the times slightly better than the non-linear one, but only by approx. 1%. However, based on this alone, we cannot definitely say that the linear SVM performs better than the non-linear SVM in general."
      ]
    }
  ],
  "metadata": {
    "celltoolbar": "Edit Metadata",
    "colab": {
      "provenance": []
    },
    "kernelspec": {
      "display_name": "Python 3",
      "language": "python",
      "name": "python3"
    },
    "language_info": {
      "codemirror_mode": {
        "name": "ipython",
        "version": 3
      },
      "file_extension": ".py",
      "mimetype": "text/x-python",
      "name": "python",
      "nbconvert_exporter": "python",
      "pygments_lexer": "ipython3",
      "version": "3.10.4"
    },
    "vscode": {
      "interpreter": {
        "hash": "cb69c4671c883ed6a4df5072a4d94acbf114d31e22cae574724676294076912d"
      }
    }
  },
  "nbformat": 4,
  "nbformat_minor": 0
}
