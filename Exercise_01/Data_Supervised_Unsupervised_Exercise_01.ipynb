{
  "cells": [
    {
      "cell_type": "markdown",
      "metadata": {
        "id": "KEpAMW9lwDwV"
      },
      "source": [
        "# Exercise 1: Jupyter Notebooks and Python\n",
        "\n",
        "* Work through the short tutorial below to get you up to speed in python and jupyter notebooks. "
      ]
    },
    {
      "cell_type": "markdown",
      "metadata": {
        "id": "pRkLXzhrwDwa"
      },
      "source": [
        "## Tutorial on Jupyter and Python \n",
        "\n",
        "### Jupyter Notebooks\n",
        "\n",
        "* Cells can be <b>evaluated</b> by selecting them and then hitting <code>shift + enter</code>\n",
        "* New cells can be <b>inserted</b> using the Insert option in the menu\n",
        "* Cells can be <b>edited</b> using the Edit option in the menu"
      ]
    },
    {
      "cell_type": "code",
      "execution_count": 2,
      "metadata": {
        "id": "Nb7GiA9BwDwc",
        "outputId": "d48a887f-e7a6-4127-df4b-18c04c6c4a8d"
      },
      "outputs": [
        {
          "name": "stdout",
          "output_type": "stream",
          "text": [
            "You have executed this cell.\n"
          ]
        }
      ],
      "source": [
        "# This is a cell. You can execute it by selecting it using your mouse (indicated by a border) and then press shift+enter. \n",
        "print('You have executed this cell.')"
      ]
    },
    {
      "cell_type": "markdown",
      "metadata": {
        "id": "C0IM4R98wDwe"
      },
      "source": [
        "\n",
        "### Python\n",
        "\n",
        "* Python is a strongly, dynamically <b>typed</b> language\n",
        "* Code blocks in python are defined using <b>indents</b> (tabs) instead of <code>}</code> or <code>{</code>\n",
        "* You do not have to use <code>;</code>\n",
        "* <code>)</code> and <code>(</code> can be omitted in many cases \n",
        "* <b>Lists, dictionaries and numpy arrays</b> will be our main data structures\n",
        "\n",
        "Try to <b>learn</b> the syntax from <b>coding</b>, and referring to other code samples. It is quite simple. We will cover\n",
        "only the most important things here."
      ]
    },
    {
      "cell_type": "markdown",
      "metadata": {
        "id": "G1bGuo3vwDwf"
      },
      "source": [
        "### Conditional Statements\n",
        "\n",
        "In python there is an <code>if</code> statement (the indent is important!) following the same semantical rules as in other languages:\n",
        "\n",
        "```python\n",
        "if condition:\n",
        "    statement\n",
        "```"
      ]
    },
    {
      "cell_type": "code",
      "execution_count": 3,
      "metadata": {
        "id": "dqfZlT7GwDwg",
        "outputId": "00e67fe1-db3d-4278-aba8-1541fe7ca312"
      },
      "outputs": [
        {
          "name": "stdout",
          "output_type": "stream",
          "text": [
            "10 is greater than 1.\n"
          ]
        }
      ],
      "source": [
        "if 10 > 5:\n",
        "    print('10 is greater than 1.')"
      ]
    },
    {
      "cell_type": "markdown",
      "metadata": {
        "id": "DJEIUba-wDwh"
      },
      "source": [
        "There is also an else and an else-if version of the statement. Logical expression are negated using the <code>not</code>\n",
        "statement, they can be concatenated using the <code>and</code> and <code>or</code> operators:<br><br>\n",
        "``` python\n",
        "if condition1:\n",
        "    statement1\n",
        "elif condition2:\n",
        "    statement2\n",
        "else condition3:\n",
        "    statement3\n",
        "```\n"
      ]
    },
    {
      "cell_type": "code",
      "execution_count": 4,
      "metadata": {
        "id": "DEdgw7ecwDwi",
        "outputId": "8951332a-be99-44db-8cf2-b8e46267e245"
      },
      "outputs": [
        {
          "name": "stdout",
          "output_type": "stream",
          "text": [
            "x is in (3;inf)\n"
          ]
        }
      ],
      "source": [
        "x = 3.001\n",
        "\n",
        "if x < 0:\n",
        "    print('x is in (-inf, 0)')\n",
        "elif x >= 0 and x <= 3:\n",
        "    print('x is in [0;3]') \n",
        "else:\n",
        "    print('x is in (3;inf)')"
      ]
    },
    {
      "cell_type": "markdown",
      "metadata": {
        "id": "2dI18ffqwDwk"
      },
      "source": [
        "### Python Datastructures\n",
        "\n",
        "#### Lists\n",
        "Lists and dictionaries and tuples are the most important python data structures. A list is defined using the <code>[]</code> syntax."
      ]
    },
    {
      "cell_type": "code",
      "execution_count": 5,
      "metadata": {
        "id": "Bqcw5jNywDwm",
        "outputId": "cb9e2edf-2053-48f6-a9ce-4e389d88dc4a"
      },
      "outputs": [
        {
          "name": "stdout",
          "output_type": "stream",
          "text": [
            "['item1', 2, [...]]\n"
          ]
        }
      ],
      "source": [
        "list1 = [] # This defines a list\n",
        "list1.append('item1') # add a string to the list\n",
        "list1.append(2) # add an integer to the list, lists are not restricted to one data-type\n",
        "\n",
        "list1.append(list1)\n",
        "print(list1)"
      ]
    },
    {
      "cell_type": "code",
      "execution_count": 6,
      "metadata": {
        "id": "EHdPNAOLwDwo",
        "outputId": "02c0a6ac-56ab-485e-9c9e-01e3be15cc14"
      },
      "outputs": [
        {
          "name": "stdout",
          "output_type": "stream",
          "text": [
            "['item1', 2]\n"
          ]
        }
      ],
      "source": [
        "list2 = ['item1', 2] # direct initialization of a list\n",
        "print(list2)"
      ]
    },
    {
      "cell_type": "code",
      "execution_count": 7,
      "metadata": {
        "id": "fXnq5QR7wDwq",
        "outputId": "853ecc4e-ae35-4945-d8ae-977727f2a537"
      },
      "outputs": [
        {
          "name": "stdout",
          "output_type": "stream",
          "text": [
            "[2, 'item2', 3]\n"
          ]
        }
      ],
      "source": [
        "list3 = ['item1', 2, 'item2', 3]\n",
        "list3.remove('item1') # items can be removed\n",
        "print(list3)"
      ]
    },
    {
      "cell_type": "markdown",
      "metadata": {
        "id": "iZ61FnLjwDwr"
      },
      "source": [
        "We can check if an item is inside the list by using the <code>in</code> operator:"
      ]
    },
    {
      "cell_type": "code",
      "execution_count": 8,
      "metadata": {
        "id": "p21f6-tTwDwr",
        "outputId": "e3e94f45-49a2-4a12-ceff-4333ee3bdd9d"
      },
      "outputs": [
        {
          "name": "stdout",
          "output_type": "stream",
          "text": [
            "True\n",
            "False\n"
          ]
        }
      ],
      "source": [
        "list4 = ['item1', 2, 'item2', 3]\n",
        "print(2 in list4)\n",
        "print('item1' not in list4)"
      ]
    },
    {
      "cell_type": "markdown",
      "metadata": {
        "id": "mypbmia6wDws"
      },
      "source": [
        "You can retrieve the number of items in a list using the <code>len</code> operator:"
      ]
    },
    {
      "cell_type": "code",
      "execution_count": 9,
      "metadata": {
        "id": "X4kQQ3KQwDwu",
        "outputId": "467e129c-b60d-4444-9393-8ae4bbea2ff6"
      },
      "outputs": [
        {
          "data": {
            "text/plain": [
              "6"
            ]
          },
          "execution_count": 9,
          "metadata": {},
          "output_type": "execute_result"
        }
      ],
      "source": [
        "list1 = [1,2,3,4,5,6]\n",
        "len(list1)"
      ]
    },
    {
      "cell_type": "markdown",
      "metadata": {
        "id": "eEbF3SUywDwu"
      },
      "source": [
        "### Dictionaries\n",
        "Dictionaries are an <b>associative</b> data structure (such as a HashMap) combining a key and a value:"
      ]
    },
    {
      "cell_type": "code",
      "execution_count": 10,
      "metadata": {
        "id": "nDAtiNqNwDww",
        "outputId": "b5f9ae23-4773-4feb-8237-27cb8a281d10"
      },
      "outputs": [
        {
          "name": "stdout",
          "output_type": "stream",
          "text": [
            "{'cat': [[1, 2, 3, 4]], 'dog': [[5, 6, 1, 0]]}\n",
            "{'cat': [[1, 2, 3, 4], 'bad fvec'], 'dog': [[5, 6, 1, 0]]}\n"
          ]
        }
      ],
      "source": [
        "fvecs_by_class = dict() # initialize a dictionary\n",
        "fvecs_by_class['cat'] = [[1, 2, 3 ,4]] # key is a string, value is a list, containing a single element (another list)\n",
        "fvecs_by_class['dog'] = [[5, 6, 1, 0]]\n",
        "\n",
        "print(fvecs_by_class)\n",
        "\n",
        "fvecs_by_class['cat'].append('bad fvec')\n",
        "\n",
        "print(fvecs_by_class)"
      ]
    },
    {
      "cell_type": "code",
      "execution_count": 11,
      "metadata": {
        "id": "xRf-qgWvwDww",
        "outputId": "a98f6fef-bf61-4d72-9e24-4ce1461acffd"
      },
      "outputs": [
        {
          "name": "stdout",
          "output_type": "stream",
          "text": [
            "{'cat': [[1, 2, 3, 4], 'bad fvec', 'a bad feature vector'], 'dog': [[5, 6, 1, 0]]}\n"
          ]
        }
      ],
      "source": [
        "fvecs_by_class['cat'].append('a bad feature vector') # we add another value to the string which certainly is not a fvec!!\n",
        "print(fvecs_by_class)"
      ]
    },
    {
      "cell_type": "markdown",
      "metadata": {
        "id": "0BJ01J8bwDwx"
      },
      "source": [
        "### Tuples\n",
        "\n",
        "Tuples are another important data structure we use in python. However, we usually do not use them to represent vectors (we use a library for this called numpy). Nevertheless, tuples can be very useful in many applications. \n",
        "\n",
        "They are exactly what you expect them to be, the behave like tuples in math. Remember our definition of tuples using the carthesian product:\n",
        "\n",
        "$A \\times B = \\{ (a,b) \\;|\\; a \\in A, b \\in B\\}$\n",
        "\n",
        "Tuples are defined in python using the <code>()</code> syntax. As python is not strongly typed, we do not have to define the type of each dimension (as opposed to mathematics)."
      ]
    },
    {
      "cell_type": "code",
      "execution_count": 12,
      "metadata": {
        "id": "qL6EpuFEwDwx",
        "outputId": "aa82e529-5e8a-42c2-835b-ef35a3cb3b0f"
      },
      "outputs": [
        {
          "name": "stdout",
          "output_type": "stream",
          "text": [
            "(1, 3, 'red')\n"
          ]
        }
      ],
      "source": [
        "Colors = ['red', 'green', 'blue', 'yellow']\n",
        "tuple1 = (1, 3, Colors[0]) # once defined tuples have a fixed numer of elements (as opposed to a list)\n",
        "\n",
        "print(tuple1) # tuples are accessed using indexing"
      ]
    },
    {
      "cell_type": "markdown",
      "metadata": {
        "id": "HDPq8-PywDwx"
      },
      "source": [
        "So from a mathematical perspective **tuple1** above but be an element of the set\n",
        "$\\mathbb{R} \\times \\mathbb{R} \\times Colors$. Remember in tuples:\n",
        "- Ordering matters\n",
        "- Elements can occur in a tuple multiple times"
      ]
    },
    {
      "cell_type": "code",
      "execution_count": 13,
      "metadata": {
        "id": "EG7bBi26wDwx",
        "outputId": "f8075743-22ae-4eff-96a5-731cd025a051"
      },
      "outputs": [
        {
          "name": "stdout",
          "output_type": "stream",
          "text": [
            "False\n",
            "(1, 1, 1)\n"
          ]
        }
      ],
      "source": [
        "tuple1 = (1,3,4)\n",
        "tuple2 = (1,4,3)\n",
        "print(tuple1 == tuple2) # Ordering matters\n",
        "\n",
        "tuple3 = (1,1,1) # Elements can occur multiple times\n",
        "print(tuple3)"
      ]
    },
    {
      "cell_type": "markdown",
      "metadata": {
        "id": "3AzvD_5pwDwy"
      },
      "source": [
        "### For-Loops\n",
        "\n",
        "For loops are everywhere in ML and signal processing. The syntax is a bit different from what we are used to in Java and C.\n",
        "For loops are based on the idea of <b>iterators</b> in python (this is similar to foreach in other languages). We therefore do not define a start-value, end condition and iteration statement like in other languages we simply iterate over a sequence.\n",
        "\n",
        "The syntax is:\n",
        "<code>\n",
        "for variable in iterable-structure:\n",
        "    statement\n",
        "</code>\n",
        "\n",
        "We generally use the <code>range(*start*, *stop*, *step*)</code> function in combination with for loops. \n"
      ]
    },
    {
      "cell_type": "code",
      "execution_count": 14,
      "metadata": {
        "id": "-kfijyRIwDwy",
        "outputId": "7ec4cb34-3ede-465d-dcaa-b281e878d897"
      },
      "outputs": [
        {
          "name": "stdout",
          "output_type": "stream",
          "text": [
            "1\n",
            "3\n",
            "5\n",
            "7\n",
            "9\n"
          ]
        }
      ],
      "source": [
        "for value in range(1,10,2):\n",
        "    print(value)"
      ]
    },
    {
      "cell_type": "code",
      "execution_count": 15,
      "metadata": {
        "id": "wYJfxDhwwDw0",
        "outputId": "3e9b7f1b-4b0a-48d3-ae5f-52f04f5cdf25"
      },
      "outputs": [
        {
          "name": "stdout",
          "output_type": "stream",
          "text": [
            "one\n",
            "two\n",
            "three\n"
          ]
        }
      ],
      "source": [
        "list1 = ['one', 'two', 'three']\n",
        "for item in list1:\n",
        "    print(item)"
      ]
    },
    {
      "cell_type": "markdown",
      "metadata": {
        "id": "InPnabs3wDw0"
      },
      "source": [
        "### Functions\n",
        "Functions in python are defined using the <b>def</b> keyword. Be aware that there are no \"{\" or \"}\". Indents are used to define the program structure. The general syntax is:\n",
        "<code>\n",
        "    **def** func(arg1, arg2):\n",
        "        # some code here\n",
        "        **return** value # if you want to return a value\n",
        "</code>"
      ]
    },
    {
      "cell_type": "code",
      "execution_count": 16,
      "metadata": {
        "id": "moH4o4x2wDw0"
      },
      "outputs": [],
      "source": [
        "def add_vectors(tuple1, tuple2): # implements a standard vector addition using tuples as input\n",
        "    \n",
        "    # We have to check that:\n",
        "    #    1. the tuples have the same dimension \n",
        "    #    2. the tuples have the same type\n",
        "    if len(tuple1) != len(tuple2):\n",
        "        raise Exception('Vectors do not have the same dimension')\n",
        "    \n",
        "    # If we need variable dimensional tuples (like k-dimensional) we use lists instead.\n",
        "    # They are almost the same thing. \n",
        "    tuple3 = []\n",
        "    \n",
        "    # Loop through all dimensions and perform element-wise addition.\n",
        "    #\n",
        "    for i in range(len(tuple1)): \n",
        "        tuple3.append(tuple1[i] + tuple2[i]) # Append to the end of the list\n",
        "    \n",
        "    return tuple(tuple3) # Convert to tuple"
      ]
    },
    {
      "cell_type": "code",
      "execution_count": 17,
      "metadata": {
        "id": "0KZLHPxnwDw1",
        "outputId": "258ff31f-68b0-4253-a5a9-924317e53240"
      },
      "outputs": [
        {
          "data": {
            "text/plain": [
              "(4, 6, 8)"
            ]
          },
          "execution_count": 17,
          "metadata": {},
          "output_type": "execute_result"
        }
      ],
      "source": [
        "vec1 = (1,2,3)\n",
        "vec2 = (3,4,5)\n",
        "add_vectors(vec1, vec2)"
      ]
    },
    {
      "cell_type": "markdown",
      "metadata": {
        "id": "TtKyV04FwDw1"
      },
      "source": [
        "## Numpy\n",
        "\n",
        "Notice: Parts of this tutorial are from the excellent tutorial found at https://cs231n.github.io/python-numpy-tutorial/#numpy.\n",
        "\n",
        "\n",
        "Numpy is the core library for scientific computing in Python. It provides a high-performance multidimensional array object, and tools for working with these arrays. If you are already familiar with MATLAB, you might find this tutorial useful to get started with Numpy.\n",
        "\n",
        "\n",
        "### Arrays\n",
        "A numpy array is a grid of values, all of the same type, and is indexed by a tuple of nonnegative integers. The number of dimensions is the rank of the array; the shape of an array is a tuple of integers giving the size of the array along each dimension.\n",
        "\n",
        "We can initialize numpy arrays from nested Python lists, and access elements using square brackets. The first index into the array corresponds to the row-index, the second index to the column-index (such as when we use matrices). The third dimension is the color channel.\n",
        "\n",
        "<center>\n",
        "<img src='https://github.com/shegenbart/Jupyter-Exercises/blob/main/Data-Supervised-Unsupervised-RL/figures/numpy_tensor.png?raw=1' width=600/>\n",
        "</center>\n"
      ]
    },
    {
      "cell_type": "code",
      "execution_count": 18,
      "metadata": {
        "id": "SdMV3D8ywDw2",
        "outputId": "a1f36d96-22ff-4a17-83b7-75408e2ea5dd"
      },
      "outputs": [
        {
          "name": "stdout",
          "output_type": "stream",
          "text": [
            "<class 'numpy.ndarray'>\n",
            "(3,)\n",
            "1 2 3\n",
            "[5 2 3]\n",
            "(2, 3)\n",
            "1 2 4\n"
          ]
        }
      ],
      "source": [
        "import numpy as np\n",
        "\n",
        "a = np.array([1, 2, 3])   # Create a rank 1 array\n",
        "print(type(a))            # Prints \"<class 'numpy.ndarray'>\"\n",
        "print(a.shape)            # Prints \"(3,)\"\n",
        "print(a[0], a[1], a[2])   # Prints \"1 2 3\"\n",
        "a[0] = 5                  # Change an element of the array\n",
        "print(a)                  # Prints \"[5, 2, 3]\"\n",
        "\n",
        "b = np.array([[1,2,3],[4,5,6]])    # Create a rank 2 array\n",
        "print(b.shape)                     # Prints \"(2, 3)\"\n",
        "print(b[0, 0], b[0, 1], b[1, 0])   # Prints \"1 2 4\""
      ]
    },
    {
      "cell_type": "markdown",
      "metadata": {
        "id": "1crW-mUDwDw2"
      },
      "source": [
        "Numpy also provides many functions to create arrays:"
      ]
    },
    {
      "cell_type": "code",
      "execution_count": 19,
      "metadata": {
        "id": "yVsemS_zwDw2",
        "outputId": "f235512b-6ee7-4bb3-e630-b91e790cda38"
      },
      "outputs": [
        {
          "name": "stdout",
          "output_type": "stream",
          "text": [
            "[[0. 0.]\n",
            " [0. 0.]]\n",
            "[[1. 1.]]\n",
            "[[7 7]\n",
            " [7 7]]\n",
            "[[1. 0.]\n",
            " [0. 1.]]\n",
            "[[0.35363478 0.06737176]\n",
            " [0.99376927 0.90660665]]\n"
          ]
        }
      ],
      "source": [
        "import numpy as np\n",
        "\n",
        "a = np.zeros((2,2))   # Create an array of all zeros\n",
        "print(a)              # Prints \"[[ 0.  0.]\n",
        "                      #          [ 0.  0.]]\"\n",
        "\n",
        "b = np.ones((1,2))    # Create an array of all ones\n",
        "print(b)              # Prints \"[[ 1.  1.]]\"\n",
        "\n",
        "c = np.full((2,2), 7)  # Create a constant array\n",
        "print(c)               # Prints \"[[ 7.  7.]\n",
        "                       #          [ 7.  7.]]\"\n",
        "\n",
        "d = np.eye(2)         # Create a 2x2 identity matrix\n",
        "print(d)              # Prints \"[[ 1.  0.]\n",
        "                      #          [ 0.  1.]]\"\n",
        "\n",
        "e = np.random.random((2,2))  # Create an array filled with random values\n",
        "print(e)                     # Might print \"[[ 0.91940167  0.08143941]\n",
        "                             #               [ 0.68744134  0.87236687]]\""
      ]
    },
    {
      "cell_type": "markdown",
      "metadata": {
        "id": "lKuQp7t5wDw3"
      },
      "source": [
        "### Array indexing\n",
        "Numpy offers several ways to index into arrays.\n",
        "\n",
        "Slicing: Similar to Python lists, numpy arrays can be sliced. Since arrays may be multidimensional, you must specify a slice for each dimension of the array:"
      ]
    },
    {
      "cell_type": "code",
      "execution_count": 20,
      "metadata": {
        "id": "kqBsz0_DwDw3",
        "outputId": "5b691f28-1492-49ad-c5a8-92fe03fa5ce7"
      },
      "outputs": [
        {
          "name": "stdout",
          "output_type": "stream",
          "text": [
            "2\n",
            "77\n"
          ]
        }
      ],
      "source": [
        "import numpy as np\n",
        "\n",
        "# Create the following rank 2 array with shape (3, 4)\n",
        "# [[ 1  2  3  4]\n",
        "#  [ 5  6  7  8]\n",
        "#  [ 9 10 11 12]]\n",
        "a = np.array([[1,2,3,4], [5,6,7,8], [9,10,11,12]])\n",
        "\n",
        "# Use slicing to pull out the subarray consisting of the first 2 rows\n",
        "# and columns 1 and 2; b is the following array of shape (2, 2):\n",
        "# [[2 3]\n",
        "#  [6 7]]\n",
        "b = a[:2, 1:3]\n",
        "\n",
        "# A slice of an array is a view into the same data, so modifying it\n",
        "# will modify the original array.\n",
        "print(a[0, 1])   # Prints \"2\"\n",
        "b[0, 0] = 77     # b[0, 0] is the same piece of data as a[0, 1]\n",
        "print(a[0, 1])   # Prints \"77\""
      ]
    },
    {
      "cell_type": "markdown",
      "metadata": {
        "id": "07KzJ257wDw5"
      },
      "source": [
        "You can also mix integer indexing with slice indexing. However, doing so will yield an array of lower rank than the original array. Note that this is quite different from the way that MATLAB handles array slicing:"
      ]
    },
    {
      "cell_type": "code",
      "execution_count": 21,
      "metadata": {
        "id": "PAgq_BlswDw5",
        "outputId": "b565d2f9-9cf7-470f-a5a2-445715201283"
      },
      "outputs": [
        {
          "name": "stdout",
          "output_type": "stream",
          "text": [
            "[5 6 7 8] (4,)\n",
            "[[5 6 7 8]] (1, 4)\n",
            "[ 2  6 10] (3,)\n",
            "[[ 2]\n",
            " [ 6]\n",
            " [10]] (3, 1)\n"
          ]
        }
      ],
      "source": [
        "import numpy as np\n",
        "\n",
        "# Create the following rank 2 array with shape (3, 4)\n",
        "# [[ 1  2  3  4]\n",
        "#  [ 5  6  7  8]\n",
        "#  [ 9 10 11 12]]\n",
        "a = np.array([[1,2,3,4], [5,6,7,8], [9,10,11,12]])\n",
        "\n",
        "# Two ways of accessing the data in the middle row of the array.\n",
        "# Mixing integer indexing with slices yields an array of lower rank,\n",
        "# while using only slices yields an array of the same rank as the\n",
        "# original array:\n",
        "row_r1 = a[1, :]    # Rank 1 view of the second row of a\n",
        "row_r2 = a[1:2, :]  # Rank 2 view of the second row of a\n",
        "print(row_r1, row_r1.shape)  # Prints \"[5 6 7 8] (4,)\"\n",
        "print(row_r2, row_r2.shape)  # Prints \"[[5 6 7 8]] (1, 4)\"\n",
        "\n",
        "# We can make the same distinction when accessing columns of an array:\n",
        "col_r1 = a[:, 1]\n",
        "col_r2 = a[:, 1:2]\n",
        "print(col_r1, col_r1.shape)  # Prints \"[ 2  6 10] (3,)\"\n",
        "print(col_r2, col_r2.shape)  # Prints \"[[ 2]\n",
        "                             #          [ 6]\n",
        "                             #          [10]] (3, 1)\""
      ]
    },
    {
      "cell_type": "markdown",
      "metadata": {
        "id": "y4Zle1ojwDw5"
      },
      "source": [
        "One useful trick with integer array indexing is selecting or mutating one element from each row of a matrix:"
      ]
    },
    {
      "cell_type": "code",
      "execution_count": 22,
      "metadata": {
        "id": "xtozNik3wDw6",
        "outputId": "2306d7a9-0b3f-4563-df80-360a2d9ccca7"
      },
      "outputs": [
        {
          "name": "stdout",
          "output_type": "stream",
          "text": [
            "[[ 1  2  3]\n",
            " [ 4  5  6]\n",
            " [ 7  8  9]\n",
            " [10 11 12]]\n",
            "[ 1  6  7 11]\n",
            "[[11  2  3]\n",
            " [ 4  5 16]\n",
            " [17  8  9]\n",
            " [10 21 12]]\n"
          ]
        }
      ],
      "source": [
        "import numpy as np\n",
        "\n",
        "# Create a new array from which we will select elements\n",
        "a = np.array([[1,2,3], [4,5,6], [7,8,9], [10, 11, 12]])\n",
        "\n",
        "print(a)  # prints \"array([[ 1,  2,  3],\n",
        "          #                [ 4,  5,  6],\n",
        "          #                [ 7,  8,  9],\n",
        "          #                [10, 11, 12]])\"\n",
        "\n",
        "# Create an array of indices\n",
        "b = np.array([0, 2, 0, 1])\n",
        "\n",
        "# Select one element from each row of a using the indices in b\n",
        "print(a[np.arange(4), b])  # Prints \"[ 1  6  7 11]\"\n",
        "\n",
        "# Mutate one element from each row of a using the indices in b\n",
        "a[np.arange(4), b] += 10\n",
        "\n",
        "print(a)  # prints \"array([[11,  2,  3],\n",
        "          #                [ 4,  5, 16],\n",
        "          #                [17,  8,  9],\n",
        "          #                [10, 21, 12]])"
      ]
    },
    {
      "cell_type": "markdown",
      "metadata": {
        "id": "RyAq5wE-wDw6"
      },
      "source": [
        "**Boolean array indexing:** Boolean array indexing lets you pick out arbitrary elements of an array. Frequently this type of indexing is used to select the elements of an array that satisfy some condition. Here is an example:"
      ]
    },
    {
      "cell_type": "code",
      "execution_count": 23,
      "metadata": {
        "id": "te3hHZ_xwDw7",
        "outputId": "b19cf9be-e5c8-44a2-ae11-5d26faa9af1d"
      },
      "outputs": [
        {
          "name": "stdout",
          "output_type": "stream",
          "text": [
            "[[False False]\n",
            " [ True  True]\n",
            " [ True  True]]\n",
            "[3 4 5 6]\n",
            "[3 4 5 6]\n"
          ]
        }
      ],
      "source": [
        "import numpy as np\n",
        "\n",
        "a = np.array([[1,2], [3, 4], [5, 6]])\n",
        "\n",
        "bool_idx = (a > 2)   # Find the elements of a that are bigger than 2;\n",
        "                     # this returns a numpy array of Booleans of the same\n",
        "                     # shape as a, where each slot of bool_idx tells\n",
        "                     # whether that element of a is > 2.\n",
        "\n",
        "print(bool_idx)      # Prints \"[[False False]\n",
        "                     #          [ True  True]\n",
        "                     #          [ True  True]]\"\n",
        "\n",
        "# We use boolean array indexing to construct a rank 1 array\n",
        "# consisting of the elements of a corresponding to the True values\n",
        "# of bool_idx\n",
        "print(a[bool_idx])  # Prints \"[3 4 5 6]\"\n",
        "\n",
        "# We can do all of the above in a single concise statement:\n",
        "print(a[a > 2])     # Prints \"[3 4 5 6]\""
      ]
    },
    {
      "cell_type": "markdown",
      "metadata": {
        "id": "tKhsbfadwDw8"
      },
      "source": [
        "### Array Math\n",
        "\n",
        "Basic mathematical functions operate elementwise on arrays, and are available both as operator overloads and as functions in the numpy module:"
      ]
    },
    {
      "cell_type": "code",
      "execution_count": 24,
      "metadata": {
        "id": "C-VLCiAjwDw8",
        "outputId": "2cef6980-201d-47e0-d897-5acbd40eadbe"
      },
      "outputs": [
        {
          "name": "stdout",
          "output_type": "stream",
          "text": [
            "[[ 6.  8.]\n",
            " [10. 12.]]\n",
            "[[ 6.  8.]\n",
            " [10. 12.]]\n",
            "[[-4. -4.]\n",
            " [-4. -4.]]\n",
            "[[-4. -4.]\n",
            " [-4. -4.]]\n",
            "[[ 5. 12.]\n",
            " [21. 32.]]\n",
            "[[ 5. 12.]\n",
            " [21. 32.]]\n",
            "[[0.2        0.33333333]\n",
            " [0.42857143 0.5       ]]\n",
            "[[0.2        0.33333333]\n",
            " [0.42857143 0.5       ]]\n",
            "[[1.         1.41421356]\n",
            " [1.73205081 2.        ]]\n"
          ]
        }
      ],
      "source": [
        "import numpy as np\n",
        "\n",
        "x = np.array([[1,2],[3,4]], dtype=np.float64)\n",
        "y = np.array([[5,6],[7,8]], dtype=np.float64)\n",
        "\n",
        "# Elementwise sum; both produce the array\n",
        "# [[ 6.0  8.0]\n",
        "#  [10.0 12.0]]\n",
        "print(x + y)\n",
        "print(np.add(x, y))\n",
        "\n",
        "# Elementwise difference; both produce the array\n",
        "# [[-4.0 -4.0]\n",
        "#  [-4.0 -4.0]]\n",
        "print(x - y)\n",
        "print(np.subtract(x, y))\n",
        "\n",
        "# Elementwise product; both produce the array\n",
        "# [[ 5.0 12.0]\n",
        "#  [21.0 32.0]]\n",
        "print(x * y)\n",
        "print(np.multiply(x, y))\n",
        "\n",
        "# Elementwise division; both produce the array\n",
        "# [[ 0.2         0.33333333]\n",
        "#  [ 0.42857143  0.5       ]]\n",
        "print(x / y)\n",
        "print(np.divide(x, y))\n",
        "\n",
        "# Elementwise square root; produces the array\n",
        "# [[ 1.          1.41421356]\n",
        "#  [ 1.73205081  2.        ]]\n",
        "print(np.sqrt(x))"
      ]
    },
    {
      "cell_type": "markdown",
      "metadata": {
        "id": "39weZ0ApwDw8"
      },
      "source": [
        "Numpy provides many useful functions for performing computations on arrays; one of the most useful is sum:"
      ]
    },
    {
      "cell_type": "code",
      "execution_count": 25,
      "metadata": {
        "id": "e2uwUpeCwDw8",
        "outputId": "11a3e6df-b66c-4a41-f58f-e002a9ee6608"
      },
      "outputs": [
        {
          "name": "stdout",
          "output_type": "stream",
          "text": [
            "10\n",
            "[4 6]\n",
            "[3 7]\n"
          ]
        }
      ],
      "source": [
        "import numpy as np\n",
        "\n",
        "x = np.array([[1,2],[3,4]])\n",
        "\n",
        "print(np.sum(x))  # Compute sum of all elements; prints \"10\"\n",
        "print(np.sum(x, axis=0))  # Compute sum of each column; prints \"[4 6]\"\n",
        "print(np.sum(x, axis=1))  # Compute sum of each row; prints \"[3 7]\""
      ]
    },
    {
      "cell_type": "markdown",
      "metadata": {
        "id": "Ia1HDToQwDw9"
      },
      "source": [
        "# Exercise 2:  Explore the Digits - Data\n",
        "\n",
        "Load the digits data using the ```load_digits()``` function provided by scikit-learn. Explore the data and try to answer the following questions:\n",
        "1. What is the number of **samples** and what is the **dimension** of the data?\n",
        "2. What is the **data-type** (categorical, numerical, ...)?\n",
        "3. Is the dataset suited for a **supervised** algorithm?\n",
        "4. Is the dataset suited for an **unsupervised** algorithm?\n",
        "\n",
        "*Hints:*\n",
        "* Each dataset comes with a description that can be viewed using ```print(data.DESCR)```.\n",
        "* ```type(x)``` gives us the type of an object in python.\n",
        "* ```x.shape``` tells us the shape (dimensions in each axis) of a ```numpy``` array. \n"
      ]
    },
    {
      "cell_type": "code",
      "execution_count": 26,
      "metadata": {
        "colab": {
          "base_uri": "https://localhost:8080/"
        },
        "id": "0co2euxpwDw9",
        "outputId": "c43cd304-c17e-4cc2-9e4b-cb8abc5a48d3"
      },
      "outputs": [
        {
          "name": "stdout",
          "output_type": "stream",
          "text": [
            "[[ 0.  0.  5. ...  0.  0.  0.]\n",
            " [ 0.  0.  0. ... 10.  0.  0.]\n",
            " [ 0.  0.  0. ... 16.  9.  0.]\n",
            " ...\n",
            " [ 0.  0.  1. ...  6.  0.  0.]\n",
            " [ 0.  0.  2. ... 12.  0.  0.]\n",
            " [ 0.  0. 10. ... 12.  1.  0.]]\n",
            ".. _digits_dataset:\n",
            "\n",
            "Optical recognition of handwritten digits dataset\n",
            "--------------------------------------------------\n",
            "\n",
            "**Data Set Characteristics:**\n",
            "\n",
            "    :Number of Instances: 1797\n",
            "    :Number of Attributes: 64\n",
            "    :Attribute Information: 8x8 image of integer pixels in the range 0..16.\n",
            "    :Missing Attribute Values: None\n",
            "    :Creator: E. Alpaydin (alpaydin '@' boun.edu.tr)\n",
            "    :Date: July; 1998\n",
            "\n",
            "This is a copy of the test set of the UCI ML hand-written digits datasets\n",
            "https://archive.ics.uci.edu/ml/datasets/Optical+Recognition+of+Handwritten+Digits\n",
            "\n",
            "The data set contains images of hand-written digits: 10 classes where\n",
            "each class refers to a digit.\n",
            "\n",
            "Preprocessing programs made available by NIST were used to extract\n",
            "normalized bitmaps of handwritten digits from a preprinted form. From a\n",
            "total of 43 people, 30 contributed to the training set and different 13\n",
            "to the test set. 32x32 bitmaps are divided into nonoverlapping blocks of\n",
            "4x4 and the number of on pixels are counted in each block. This generates\n",
            "an input matrix of 8x8 where each element is an integer in the range\n",
            "0..16. This reduces dimensionality and gives invariance to small\n",
            "distortions.\n",
            "\n",
            "For info on NIST preprocessing routines, see M. D. Garris, J. L. Blue, G.\n",
            "T. Candela, D. L. Dimmick, J. Geist, P. J. Grother, S. A. Janet, and C.\n",
            "L. Wilson, NIST Form-Based Handprint Recognition System, NISTIR 5469,\n",
            "1994.\n",
            "\n",
            ".. topic:: References\n",
            "\n",
            "  - C. Kaynak (1995) Methods of Combining Multiple Classifiers and Their\n",
            "    Applications to Handwritten Digit Recognition, MSc Thesis, Institute of\n",
            "    Graduate Studies in Science and Engineering, Bogazici University.\n",
            "  - E. Alpaydin, C. Kaynak (1998) Cascading Classifiers, Kybernetika.\n",
            "  - Ken Tang and Ponnuthurai N. Suganthan and Xi Yao and A. Kai Qin.\n",
            "    Linear dimensionalityreduction using relevance weighted LDA. School of\n",
            "    Electrical and Electronic Engineering Nanyang Technological University.\n",
            "    2005.\n",
            "  - Claudio Gentile. A New Approximate Maximal Margin Classification\n",
            "    Algorithm. NIPS. 2000.\n",
            "\n",
            "Nr. of Dimensions  2\n",
            "Shape:  (1797, 64)\n"
          ]
        }
      ],
      "source": [
        "import sklearn\n",
        "import matplotlib.pyplot as plt\n",
        "from sklearn.datasets import load_digits\n",
        "\n",
        "digits = load_digits()\n",
        "print(digits.data)\n",
        "print('Nr. of Dimensions ', digits.data.ndim)\n",
        "print('Shape: ', digits.data.shape)"
      ]
    },
    {
      "cell_type": "markdown",
      "metadata": {
        "id": "FWN2oFnrw4G7"
      },
      "source": [
        "1) 1797 Samples, 64 Dimensions\n",
        "\n",
        "2) Categorical data, as it contains 10 classes (labels)\n",
        "\n",
        "3) Yes, as we can give feedback to the algorithm by providing not only the images but also the lables (Typical classification problem)\n",
        "\n",
        "\n",
        "4) No"
      ]
    },
    {
      "cell_type": "markdown",
      "metadata": {
        "id": "BHdN4crNwDw9"
      },
      "source": [
        "# Exercise 3:  Explore the Diabetes - Data\n",
        "\n",
        "Load the digits data using the ```load_digits()``` function provided by scikit-learn. Explore the data and try to answer the following questions:\n",
        "1. What is the number of **samples** and what is the **dimension** of the data?\n",
        "2. What is the **data-type** (categorical, numerical, ...)?\n",
        "3. Is the dataset suited for a **supervised** algorithm?\n",
        "4. Is the dataset suited for an **unsupervised** algorithm?\n",
        "\n",
        "*Hints:*\n",
        "* Each dataset comes with a description that can be viewed using ```print(data.DESCR)```.\n",
        "* ```type(x)``` gives us the type of an object in python.\n",
        "* ```x.shape``` tells us the shape (dimensions in each axis) of a ```numpy``` array. "
      ]
    },
    {
      "cell_type": "code",
      "execution_count": 27,
      "metadata": {
        "colab": {
          "base_uri": "https://localhost:8080/"
        },
        "id": "yNHek1nZwDw-",
        "outputId": "edabd42d-7c9a-43dc-a279-29a18501ea23"
      },
      "outputs": [
        {
          "name": "stdout",
          "output_type": "stream",
          "text": [
            "[[ 0.03807591  0.05068012  0.06169621  0.02187239 -0.0442235  -0.03482076\n",
            "  -0.04340085 -0.00259226  0.01990749 -0.01764613]\n",
            " [-0.00188202 -0.04464164 -0.05147406 -0.02632753 -0.00844872 -0.01916334\n",
            "   0.07441156 -0.03949338 -0.06833155 -0.09220405]]\n",
            ".. _diabetes_dataset:\n",
            "\n",
            "Diabetes dataset\n",
            "----------------\n",
            "\n",
            "Ten baseline variables, age, sex, body mass index, average blood\n",
            "pressure, and six blood serum measurements were obtained for each of n =\n",
            "442 diabetes patients, as well as the response of interest, a\n",
            "quantitative measure of disease progression one year after baseline.\n",
            "\n",
            "**Data Set Characteristics:**\n",
            "\n",
            "  :Number of Instances: 442\n",
            "\n",
            "  :Number of Attributes: First 10 columns are numeric predictive values\n",
            "\n",
            "  :Target: Column 11 is a quantitative measure of disease progression one year after baseline\n",
            "\n",
            "  :Attribute Information:\n",
            "      - age     age in years\n",
            "      - sex\n",
            "      - bmi     body mass index\n",
            "      - bp      average blood pressure\n",
            "      - s1      tc, total serum cholesterol\n",
            "      - s2      ldl, low-density lipoproteins\n",
            "      - s3      hdl, high-density lipoproteins\n",
            "      - s4      tch, total cholesterol / HDL\n",
            "      - s5      ltg, possibly log of serum triglycerides level\n",
            "      - s6      glu, blood sugar level\n",
            "\n",
            "Note: Each of these 10 feature variables have been mean centered and scaled by the standard deviation times the square root of `n_samples` (i.e. the sum of squares of each column totals 1).\n",
            "\n",
            "Source URL:\n",
            "https://www4.stat.ncsu.edu/~boos/var.select/diabetes.html\n",
            "\n",
            "For more information see:\n",
            "Bradley Efron, Trevor Hastie, Iain Johnstone and Robert Tibshirani (2004) \"Least Angle Regression,\" Annals of Statistics (with discussion), 407-499.\n",
            "(https://web.stanford.edu/~hastie/Papers/LARS/LeastAngle_2002.pdf)\n",
            "\n",
            "Nr. of Dimensions  2\n",
            "Shape:  (442, 10)\n",
            "[151.  75. 141. 206. 135.  97. 138.  63. 110. 310. 101.  69. 179. 185.\n",
            " 118. 171. 166. 144.  97. 168.  68.  49.  68. 245. 184. 202. 137.  85.\n",
            " 131. 283. 129.  59. 341.  87.  65. 102. 265. 276. 252.  90. 100.  55.\n",
            "  61.  92. 259.  53. 190. 142.  75. 142. 155. 225.  59. 104. 182. 128.\n",
            "  52.  37. 170. 170.  61. 144.  52. 128.  71. 163. 150.  97. 160. 178.\n",
            "  48. 270. 202. 111.  85.  42. 170. 200. 252. 113. 143.  51.  52. 210.\n",
            "  65. 141.  55. 134.  42. 111.  98. 164.  48.  96.  90. 162. 150. 279.\n",
            "  92.  83. 128. 102. 302. 198.  95.  53. 134. 144. 232.  81. 104.  59.\n",
            " 246. 297. 258. 229. 275. 281. 179. 200. 200. 173. 180.  84. 121. 161.\n",
            "  99. 109. 115. 268. 274. 158. 107.  83. 103. 272.  85. 280. 336. 281.\n",
            " 118. 317. 235.  60. 174. 259. 178. 128.  96. 126. 288.  88. 292.  71.\n",
            " 197. 186.  25.  84.  96. 195.  53. 217. 172. 131. 214.  59.  70. 220.\n",
            " 268. 152.  47.  74. 295. 101. 151. 127. 237. 225.  81. 151. 107.  64.\n",
            " 138. 185. 265. 101. 137. 143. 141.  79. 292. 178.  91. 116.  86. 122.\n",
            "  72. 129. 142.  90. 158.  39. 196. 222. 277.  99. 196. 202. 155.  77.\n",
            " 191.  70.  73.  49.  65. 263. 248. 296. 214. 185.  78.  93. 252. 150.\n",
            "  77. 208.  77. 108. 160.  53. 220. 154. 259.  90. 246. 124.  67.  72.\n",
            " 257. 262. 275. 177.  71.  47. 187. 125.  78.  51. 258. 215. 303. 243.\n",
            "  91. 150. 310. 153. 346.  63.  89.  50.  39. 103. 308. 116. 145.  74.\n",
            "  45. 115. 264.  87. 202. 127. 182. 241.  66.  94. 283.  64. 102. 200.\n",
            " 265.  94. 230. 181. 156. 233.  60. 219.  80.  68. 332. 248.  84. 200.\n",
            "  55.  85.  89.  31. 129.  83. 275.  65. 198. 236. 253. 124.  44. 172.\n",
            " 114. 142. 109. 180. 144. 163. 147.  97. 220. 190. 109. 191. 122. 230.\n",
            " 242. 248. 249. 192. 131. 237.  78. 135. 244. 199. 270. 164.  72.  96.\n",
            " 306.  91. 214.  95. 216. 263. 178. 113. 200. 139. 139.  88. 148.  88.\n",
            " 243.  71.  77. 109. 272.  60.  54. 221.  90. 311. 281. 182. 321.  58.\n",
            " 262. 206. 233. 242. 123. 167.  63. 197.  71. 168. 140. 217. 121. 235.\n",
            " 245.  40.  52. 104. 132.  88.  69. 219.  72. 201. 110.  51. 277.  63.\n",
            " 118.  69. 273. 258.  43. 198. 242. 232. 175.  93. 168. 275. 293. 281.\n",
            "  72. 140. 189. 181. 209. 136. 261. 113. 131. 174. 257.  55.  84.  42.\n",
            " 146. 212. 233.  91. 111. 152. 120.  67. 310.  94. 183.  66. 173.  72.\n",
            "  49.  64.  48. 178. 104. 132. 220.  57.]\n"
          ]
        }
      ],
      "source": [
        "import sklearn\n",
        "import matplotlib.pyplot as plt\n",
        "from sklearn.datasets import load_diabetes\n",
        "\n",
        "diabetes = load_diabetes()\n",
        "print(diabetes.data[:2,:])\n",
        "print('Nr. of Dimensions ', diabetes.data.ndim)\n",
        "print('Shape: ', diabetes.data.shape)\n",
        "print(diabetes.target)"
      ]
    },
    {
      "cell_type": "markdown",
      "metadata": {
        "id": "o323d6VK2FaB"
      },
      "source": [
        "1) 442 Samples, 10 Dimensions\n",
        "\n",
        "2) Numerical\n",
        "\n",
        "3) Yes, a Regression can be applied\n",
        "\n",
        "4) No"
      ]
    }
  ],
  "metadata": {
    "colab": {
      "provenance": []
    },
    "kernelspec": {
      "display_name": "Python 3.10.4 64-bit",
      "language": "python",
      "name": "python3"
    },
    "language_info": {
      "codemirror_mode": {
        "name": "ipython",
        "version": 3
      },
      "file_extension": ".py",
      "mimetype": "text/x-python",
      "name": "python",
      "nbconvert_exporter": "python",
      "pygments_lexer": "ipython3",
      "version": "3.10.4"
    },
    "orig_nbformat": 4,
    "vscode": {
      "interpreter": {
        "hash": "cb69c4671c883ed6a4df5072a4d94acbf114d31e22cae574724676294076912d"
      }
    }
  },
  "nbformat": 4,
  "nbformat_minor": 0
}
