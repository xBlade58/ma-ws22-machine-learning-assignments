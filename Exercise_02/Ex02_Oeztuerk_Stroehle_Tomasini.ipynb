{
  "cells": [
    {
      "cell_type": "markdown",
      "metadata": {},
      "source": [
        "# Team: Mert Öztürk, Justin Ströhle, Nico Tomasini"
      ]
    },
    {
      "cell_type": "markdown",
      "metadata": {
        "id": "Zl-bWicsatw9"
      },
      "source": [
        "# K-Means Clustering Exercises"
      ]
    },
    {
      "cell_type": "markdown",
      "metadata": {
        "id": "a3-wCRbUatxD"
      },
      "source": [
        "### Exercise 1: Compute the centroid of a list of points\n",
        "\n",
        "* Implement a python function that computes the centroid of an array of points. \n",
        "* Visualize the points and the centroid using matplotlib (```plt.scatter()```could be helpful). "
      ]
    },
    {
      "cell_type": "code",
      "execution_count": null,
      "metadata": {
        "colab": {
          "base_uri": "https://localhost:8080/",
          "height": 265
        },
        "id": "nugFdYK-atxE",
        "outputId": "3ccdb04d-c767-4799-fcbb-9b12179f75c3"
      },
      "outputs": [],
      "source": [
        "import numpy as np\n",
        "import matplotlib.pyplot as plt\n",
        "\n",
        "# Generate some random points\n",
        "#\n",
        "std = 5\n",
        "mean = 0\n",
        "\n",
        "X = mean + np.random.uniform(-1, 1, size=(500, 2)) * std\n",
        "plt.scatter(X[:,0], X[:,1])\n",
        "plt.grid(True)"
      ]
    },
    {
      "cell_type": "code",
      "execution_count": null,
      "metadata": {
        "colab": {
          "base_uri": "https://localhost:8080/",
          "height": 282
        },
        "id": "E04-JeInatxK",
        "outputId": "ff37d7e5-2f85-4b29-8e01-3fed89549398"
      },
      "outputs": [],
      "source": [
        "def calc_centroid(X):\n",
        "  return np.mean(X, axis=0)\n",
        "\n",
        "c = calc_centroid(X)\n",
        "print(c)\n",
        "plt.scatter(X[:,0], X[:,1])\n",
        "plt.scatter(c[0], c[1])\n",
        "plt.grid(True)"
      ]
    },
    {
      "cell_type": "markdown",
      "metadata": {
        "id": "Nb6t1dPXatxL"
      },
      "source": [
        "### Exercise 2: Implement the k-means Algorithm\n",
        "\n",
        "* Implement the k-means algorithm, use X as your test data. \n",
        "* Use the ```plot_clusters()``` to visualize your results. \n",
        "* What happens when you run the clustering multiple times, how do the results change?\n",
        "\n",
        "\n",
        "*Hints:*\n",
        "* Use the ```np.random.choice()```function to select the indices to initialize the cluster centroids (use the ```replace=False``` parameter)\n",
        "* You can initialize an empty numpy array using the ```np.zeros()``` function. \n",
        "* The ```np.argmin()``` function can be used to find the index of the smallest value in a numpy array. \n",
        "* Logical indexing can be very helpful here ```X[Y == 1, :]``` selects all vectors with a cluster label of 1.\n",
        "\n",
        "**Use the follwing method stub:**\n",
        "```python\n",
        "def kmeans(X, k):\n",
        "    \"\"\" Perform k-means clustering of data X into k partitions.\n",
        "    \n",
        "    Parameters\n",
        "    ----------\n",
        "    X: np.array\n",
        "        A numpy array of feature vectors. \n",
        "\n",
        "    Returns\n",
        "    ----------\n",
        "    A one-dimensional numpy array containing the assigned cluster indices for each vector in X. \n",
        "```"
      ]
    },
    {
      "cell_type": "code",
      "execution_count": null,
      "metadata": {
        "id": "qaJSxdd2atxN"
      },
      "outputs": [],
      "source": [
        "# Use this function to plot your results. Notice: Only 2-dimensional features are supported. \n",
        "#\n",
        "def plot_clusters(X:np.array, Y):\n",
        "    assert X.shape[1] == 2, 'Can only plot for 2-dimensional vectors in X'\n",
        "        \n",
        "    for k in np.unique(Y):\n",
        "        plt.scatter(X[Y == k, 0], X[Y == k, 1])"
      ]
    },
    {
      "cell_type": "code",
      "execution_count": null,
      "metadata": {
        "id": "SaUwxLjQnYog"
      },
      "outputs": [],
      "source": [
        "def calc_clusters(centroids, X, k, length):\n",
        "  Y = np.zeros(length)\n",
        "  for i in range(0, length):\n",
        "    distances = []\n",
        "    for j in range(0, k):\n",
        "      distances.append(np.linalg.norm(X[i] - centroids[j]))\n",
        "    min_index = np.argmin(distances)\n",
        "    Y[i] = min_index\n",
        "  return Y\n",
        "\n"
      ]
    },
    {
      "cell_type": "code",
      "execution_count": null,
      "metadata": {
        "colab": {
          "base_uri": "https://localhost:8080/",
          "height": 282
        },
        "id": "PyjOncjTatxP",
        "outputId": "5c85ea9a-f234-4024-f197-be0680fdb4be"
      },
      "outputs": [],
      "source": [
        "def kmeans(X, k):\n",
        "  # initialization\n",
        "  length = len(X)\n",
        "  Y = np.zeros(length)\n",
        "  indices = np.random.choice(len(X), k, replace=False)\n",
        "  centroids = []\n",
        "  for i in range(0, k):\n",
        "    centroids.append(X[i])\n",
        "  # assignment\n",
        "  Y_updated = calc_clusters(centroids, X, k, length)\n",
        "  # update\n",
        "  iter = 0\n",
        "  while not np.array_equal(Y, Y_updated):\n",
        "    iter += 1\n",
        "    centroids = []\n",
        "    for i in range(0, k):\n",
        "      centroids.append(calc_centroid(X[Y_updated == i, :]))\n",
        "    Y = Y_updated\n",
        "    Y_updated = calc_clusters(centroids, X, k, length)\n",
        "  print(\"Iterations: \", iter)\n",
        "  plot_clusters(X, Y)\n",
        "  return Y\n",
        "\n",
        "myLabels = kmeans(X, 3)"
      ]
    },
    {
      "cell_type": "markdown",
      "metadata": {
        "id": "T8_1ycENatxP"
      },
      "source": [
        "### Exercise 3: k-means in scikit-learn \n",
        "\n",
        "* Use the scikit-learn implementation of k-means to cluster X and compare the results to your implementation. "
      ]
    },
    {
      "cell_type": "code",
      "execution_count": null,
      "metadata": {
        "colab": {
          "base_uri": "https://localhost:8080/",
          "height": 265
        },
        "id": "fYpBk-I3atxQ",
        "outputId": "5f0cb7a1-0963-4208-bb7a-154b7d302887"
      },
      "outputs": [],
      "source": [
        "from sklearn.cluster import KMeans\n",
        "skmeans = KMeans(n_clusters=3, random_state=0).fit(X)\n",
        "skLabels = skmeans.labels_\n",
        "plot_clusters(X, skLabels)"
      ]
    },
    {
      "cell_type": "markdown",
      "metadata": {
        "id": "63IFVkVfatxR"
      },
      "source": [
        "### Exercise 4: Silhouette\n",
        "\n",
        "Use the ```silhouette_score()``` function in scikit-learn to determine the best number of cluster. Interpret and plot the results. To do so, perform kmeans clustering (use either scikit-learn or your own implementation) within a range of\n",
        "clusters (2,k) and compute the silhouette score for your result. Print all silhouette scores and plot the clustering with the highest silhouette score. \n",
        "\n",
        "* Use the ```silhouette_score()``` function in scikit-learn to determine the best number of clusters. \n",
        "* Interpret and plot the results. \n",
        "* Compare the silhouette score of a random clustering (use ```random_labels=True```  parameter) to a meaningful clustering. "
      ]
    },
    {
      "cell_type": "code",
      "execution_count": null,
      "metadata": {
        "id": "crNdTOLAatxS"
      },
      "outputs": [],
      "source": [
        "# Generate data from k distinct clusters\n",
        "def gen_data(k = 2, random_labels = False):\n",
        "    X = []\n",
        "    Y = []\n",
        "\n",
        "    for i in range(k):\n",
        "        std = np.random.randn() \n",
        "        mean = np.random.randn() + i\n",
        "\n",
        "        tmp = mean + np.random.uniform(-1, 1, size=(50, 2)) * std\n",
        "        X.append(tmp)\n",
        "        Y.append(np.ones(50) * i)\n",
        "    \n",
        "    Y = np.array(Y).ravel()\n",
        "    if random_labels:\n",
        "        np.random.shuffle(Y)\n",
        "\n",
        "    return np.array(X).reshape(k * 50, 2), Y"
      ]
    },
    {
      "cell_type": "code",
      "execution_count": null,
      "metadata": {
        "colab": {
          "base_uri": "https://localhost:8080/",
          "height": 265
        },
        "id": "dYayYg3SatxS",
        "outputId": "00886d59-8d1a-425e-adeb-173cb0b7317e"
      },
      "outputs": [],
      "source": [
        "n_clusters = 4\n",
        "X2, Y2 = gen_data(n_clusters)\n",
        "plot_clusters(X2, Y2)"
      ]
    },
    {
      "cell_type": "code",
      "execution_count": null,
      "metadata": {
        "colab": {
          "base_uri": "https://localhost:8080/"
        },
        "id": "bzFX1C_watxT",
        "outputId": "eadd0250-dd59-454d-cd1a-33544e29e7dc"
      },
      "outputs": [],
      "source": [
        "import sklearn.metrics as metrics\n",
        "print(\"random_labels = False\")\n",
        "\n",
        "score_best = -2\n",
        "num_cluster_best = -1\n",
        "XI_best = []\n",
        "YI_best =[]\n",
        "for i in range(2,10):\n",
        "  XI, YI = gen_data(i)\n",
        "  score = metrics.silhouette_score(XI, YI, metric='euclidean')\n",
        "  print(i, score)\n",
        "  if score > score_best:\n",
        "    score_best = score\n",
        "    num_cluster_best = i\n",
        "    XI_best = XI\n",
        "    YI_best = YI\n",
        "\n",
        "print(\"random_labels = True\")\n",
        "for i in range(2,10):\n",
        "  XI, YI = gen_data(i, True)\n",
        "  score = metrics.silhouette_score(XI, YI, metric='euclidean')\n",
        "  print(i, score)\n",
        "\n",
        "print(f'Best Result: {num_cluster_best}, {score_best}')\n",
        "plot_clusters(XI_best, YI_best)"
      ]
    },
    {
      "cell_type": "code",
      "execution_count": 81,
      "metadata": {},
      "outputs": [
        {
          "name": "stdout",
          "output_type": "stream",
          "text": [
            "2 0.43852714342248234\n",
            "3 0.3940961037207002\n",
            "4 0.3771728584689005\n",
            "5 0.3868639803484649\n",
            "6 0.3725556216543552\n",
            "7 0.3796043354874945\n",
            "8 0.36554768842294477\n",
            "9 0.3693175643698301\n"
          ]
        },
        {
          "data": {
            "image/png": "[encoded data removed]",
            "text/plain": [
              "<Figure size 432x288 with 1 Axes>"
            ]
          },
          "metadata": {
            "needs_background": "light"
          },
          "output_type": "display_data"
        },
        {
          "name": "stdout",
          "output_type": "stream",
          "text": [
            "Best Result: 2, 0.43852714342248234\n"
          ]
        },
        {
          "data": {
            "image/png": "[encoded data removed]",
            "text/plain": [
              "<Figure size 432x288 with 1 Axes>"
            ]
          },
          "metadata": {
            "needs_background": "light"
          },
          "output_type": "display_data"
        }
      ],
      "source": [
        "import sklearn.metrics as metrics\n",
        "\n",
        "n_clusters = 4\n",
        "NEW_X2, NEW_Y2 = gen_data(n_clusters)\n",
        "#plot_clusters(NEW_X2, NEW_Y2)\n",
        "\n",
        "range_n_clusters = [2, 3, 4, 5, 6, 7, 8, 9]\n",
        "silhouette_scores = []\n",
        "\n",
        "new_score_best = -2\n",
        "new_num_cluster_best = -1\n",
        "new_y2_best = []\n",
        "for k in range_n_clusters:\n",
        "    res_means = KMeans(n_clusters=k, random_state=1).fit(NEW_X2)\n",
        "    res_lables = res_means.labels_\n",
        "    score = metrics.silhouette_score(NEW_X2, res_lables, metric='euclidean')\n",
        "    silhouette_scores.append(score)\n",
        "    print(k, score)\n",
        "    if score > new_score_best:\n",
        "        new_score_best = score\n",
        "        new_num_cluster_best = k\n",
        "        new_y2_best = res_lables\n",
        "        \n",
        "plt.plot(range_n_clusters, silhouette_scores, 'bx-')\n",
        "plt.xlabel('Values of k')\n",
        "plt.ylabel('Silhouette score')\n",
        "plt.title('Silhouette analysis for optional k')\n",
        "plt.show()\n",
        "\n",
        "print(f'Best Result: {new_num_cluster_best}, {new_score_best}')\n",
        "plot_clusters(NEW_X2, new_y2_best)\n",
        "    "
      ]
    }
  ],
  "metadata": {
    "celltoolbar": "Edit Metadata",
    "colab": {
      "provenance": []
    },
    "kernelspec": {
      "display_name": "Python 3",
      "language": "python",
      "name": "python3"
    },
    "language_info": {
      "codemirror_mode": {
        "name": "ipython",
        "version": 3
      },
      "file_extension": ".py",
      "mimetype": "text/x-python",
      "name": "python",
      "nbconvert_exporter": "python",
      "pygments_lexer": "ipython3",
      "version": "3.10.2 (tags/v3.10.2:a58ebcc, Jan 17 2022, 14:12:15) [MSC v.1929 64 bit (AMD64)]"
    },
    "vscode": {
      "interpreter": {
        "hash": "e7b2765c452f16a3a4fadf78b91c0bdc1510ecc5741a067e6b0a43ef6f42ca60"
      }
    }
  },
  "nbformat": 4,
  "nbformat_minor": 0
}
